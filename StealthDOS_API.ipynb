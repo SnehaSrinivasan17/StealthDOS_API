{
 "cells": [
  {
   "cell_type": "code",
   "execution_count": 2,
   "metadata": {
    "execution": {
     "iopub.execute_input": "2023-08-05T06:29:36.631266Z",
     "iopub.status.busy": "2023-08-05T06:29:36.630785Z",
     "iopub.status.idle": "2023-08-05T06:29:37.321853Z",
     "shell.execute_reply": "2023-08-05T06:29:37.320320Z",
     "shell.execute_reply.started": "2023-08-05T06:29:36.631181Z"
    },
    "id": "INSpYEYRV-0J"
   },
   "outputs": [],
   "source": [
    "import pandas as pd\n",
    "import numpy as np\n",
    "from sklearn.preprocessing import OneHotEncoder\n",
    "import category_encoders as ce #Base N Encoding and Hash Encoding\n",
    "import matplotlib.pyplot as plt"
   ]
  },
  {
   "cell_type": "markdown",
   "metadata": {
    "id": "wvH4kASSV-0L"
   },
   "source": [
    "# Data Info"
   ]
  },
  {
   "cell_type": "code",
   "execution_count": 3,
   "metadata": {
    "execution": {
     "iopub.execute_input": "2023-08-05T06:29:37.324919Z",
     "iopub.status.busy": "2023-08-05T06:29:37.324292Z",
     "iopub.status.idle": "2023-08-05T06:29:55.599359Z",
     "shell.execute_reply": "2023-08-05T06:29:55.598179Z",
     "shell.execute_reply.started": "2023-08-05T06:29:37.324882Z"
    },
    "id": "nZGBK4ymXti5"
   },
   "outputs": [],
   "source": [
    "df = pd.read_csv(r\"C:\\Users\\sneha\\Desktop\\All\\PESU\\Capstone Project\\Datasets\\Synth_data.csv\")"
   ]
  },
  {
   "cell_type": "code",
   "execution_count": 4,
   "metadata": {
    "execution": {
     "iopub.execute_input": "2023-08-05T06:29:55.601909Z",
     "iopub.status.busy": "2023-08-05T06:29:55.600822Z",
     "iopub.status.idle": "2023-08-05T06:29:55.636775Z",
     "shell.execute_reply": "2023-08-05T06:29:55.635517Z",
     "shell.execute_reply.started": "2023-08-05T06:29:55.601863Z"
    },
    "id": "2S2PbPdSV-0N",
    "outputId": "d162350e-06a6-45d5-a579-70f9a70ffccb"
   },
   "outputs": [
    {
     "data": {
      "text/html": [
       "<div>\n",
       "<style scoped>\n",
       "    .dataframe tbody tr th:only-of-type {\n",
       "        vertical-align: middle;\n",
       "    }\n",
       "\n",
       "    .dataframe tbody tr th {\n",
       "        vertical-align: top;\n",
       "    }\n",
       "\n",
       "    .dataframe thead th {\n",
       "        text-align: right;\n",
       "    }\n",
       "</style>\n",
       "<table border=\"1\" class=\"dataframe\">\n",
       "  <thead>\n",
       "    <tr style=\"text-align: right;\">\n",
       "      <th></th>\n",
       "      <th>Timestamp</th>\n",
       "      <th>Version</th>\n",
       "      <th>_id</th>\n",
       "      <th>_index</th>\n",
       "      <th>_score</th>\n",
       "      <th>_type</th>\n",
       "      <th>beat.hostname</th>\n",
       "      <th>beat.name</th>\n",
       "      <th>beat.version</th>\n",
       "      <th>clientIp</th>\n",
       "      <th>...</th>\n",
       "      <th>offset</th>\n",
       "      <th>project</th>\n",
       "      <th>responseCode</th>\n",
       "      <th>responseTime</th>\n",
       "      <th>source</th>\n",
       "      <th>tags</th>\n",
       "      <th>timestamp</th>\n",
       "      <th>type</th>\n",
       "      <th>uri</th>\n",
       "      <th>Bandwidth_in_Mbps</th>\n",
       "    </tr>\n",
       "  </thead>\n",
       "  <tbody>\n",
       "    <tr>\n",
       "      <th>0</th>\n",
       "      <td>28-01-1970</td>\n",
       "      <td>21</td>\n",
       "      <td>ccbe5537365a</td>\n",
       "      <td>pingf-sys-log-01-08-2003</td>\n",
       "      <td>9381</td>\n",
       "      <td>pingf-sys-log2783</td>\n",
       "      <td>April York9457</td>\n",
       "      <td>April York9457</td>\n",
       "      <td>7972.8976.1261</td>\n",
       "      <td>192.168.0.139</td>\n",
       "      <td>...</td>\n",
       "      <td>186.8597</td>\n",
       "      <td>pingf</td>\n",
       "      <td>('300',)</td>\n",
       "      <td>09:51:11</td>\n",
       "      <td>/economy/federal.numbers1973-05-29response2952...</td>\n",
       "      <td>pingf, qa, ping-federate, gcc, beats input cod...</td>\n",
       "      <td>21:26:46</td>\n",
       "      <td>pingf-sys-log2783</td>\n",
       "      <td>https://example.com/unit/police.mp4</td>\n",
       "      <td>519</td>\n",
       "    </tr>\n",
       "    <tr>\n",
       "      <th>1</th>\n",
       "      <td>24-06-1978</td>\n",
       "      <td>22</td>\n",
       "      <td>2d8e9958f7ed</td>\n",
       "      <td>pingf-sys-log-10-08-2018</td>\n",
       "      <td>9896</td>\n",
       "      <td>pingf-sys-log8663</td>\n",
       "      <td>Elizabeth Harris3569</td>\n",
       "      <td>Elizabeth Harris3569</td>\n",
       "      <td>9369.7390.4458</td>\n",
       "      <td>192.168.0.138</td>\n",
       "      <td>...</td>\n",
       "      <td>5953.4990</td>\n",
       "      <td>pingf</td>\n",
       "      <td>('500',)</td>\n",
       "      <td>16:48:07</td>\n",
       "      <td>/least/rest.bmp1979-07-15response4956.log</td>\n",
       "      <td>pingf, qa, ping-federate, gcc, beats input cod...</td>\n",
       "      <td>19:03:54</td>\n",
       "      <td>pingf-sys-log8663</td>\n",
       "      <td>https://example.com/Mrs/else.webm</td>\n",
       "      <td>829</td>\n",
       "    </tr>\n",
       "    <tr>\n",
       "      <th>2</th>\n",
       "      <td>28-05-2014</td>\n",
       "      <td>23</td>\n",
       "      <td>c283e0c0fcc2</td>\n",
       "      <td>pingf-sys-log-10-07-2009</td>\n",
       "      <td>2428</td>\n",
       "      <td>pingf-sys-log1132</td>\n",
       "      <td>Linda King7727</td>\n",
       "      <td>Linda King7727</td>\n",
       "      <td>4606.2286.2349</td>\n",
       "      <td>192.168.0.138</td>\n",
       "      <td>...</td>\n",
       "      <td>1196.9563</td>\n",
       "      <td>pingf</td>\n",
       "      <td>('200',)</td>\n",
       "      <td>05:16:23</td>\n",
       "      <td>/artist/customer.flac1999-02-28response3129.log</td>\n",
       "      <td>pingf, qa, ping-federate, gcc, beats input cod...</td>\n",
       "      <td>02:54:49</td>\n",
       "      <td>pingf-sys-log1132</td>\n",
       "      <td>https://example.com/approach/do.pages</td>\n",
       "      <td>769</td>\n",
       "    </tr>\n",
       "    <tr>\n",
       "      <th>3</th>\n",
       "      <td>30-04-1971</td>\n",
       "      <td>24</td>\n",
       "      <td>fbce06eaee7c</td>\n",
       "      <td>pingf-sys-log-20-06-1993</td>\n",
       "      <td>2857</td>\n",
       "      <td>pingf-sys-log6061</td>\n",
       "      <td>Brian Jones8614</td>\n",
       "      <td>Brian Jones8614</td>\n",
       "      <td>1626.4908.1802</td>\n",
       "      <td>192.168.0.167</td>\n",
       "      <td>...</td>\n",
       "      <td>9006.1887</td>\n",
       "      <td>pingf</td>\n",
       "      <td>('500',)</td>\n",
       "      <td>08:37:32</td>\n",
       "      <td>/available/teach.doc2003-04-10request4673.log</td>\n",
       "      <td>pingf, qa, ping-federate, gcc, beats input cod...</td>\n",
       "      <td>00:23:40</td>\n",
       "      <td>pingf-sys-log6061</td>\n",
       "      <td>https://example.com/yeah/hour.png</td>\n",
       "      <td>733</td>\n",
       "    </tr>\n",
       "    <tr>\n",
       "      <th>4</th>\n",
       "      <td>27-02-2006</td>\n",
       "      <td>25</td>\n",
       "      <td>46b8193fdeb9</td>\n",
       "      <td>pingf-sys-log-18-12-1971</td>\n",
       "      <td>7804</td>\n",
       "      <td>pingf-sys-log6181</td>\n",
       "      <td>Craig Patel1865</td>\n",
       "      <td>Craig Patel1865</td>\n",
       "      <td>4189.5035.6999</td>\n",
       "      <td>192.168.0.26</td>\n",
       "      <td>...</td>\n",
       "      <td>7896.9035</td>\n",
       "      <td>pingf</td>\n",
       "      <td>('500',)</td>\n",
       "      <td>07:41:37</td>\n",
       "      <td>/politics/company.png1998-03-30response7314.log</td>\n",
       "      <td>pingf, qa, ping-federate, gcc, beats input cod...</td>\n",
       "      <td>22:09:20</td>\n",
       "      <td>pingf-sys-log6181</td>\n",
       "      <td>https://example.com/case/difficult.pdf</td>\n",
       "      <td>901</td>\n",
       "    </tr>\n",
       "  </tbody>\n",
       "</table>\n",
       "<p>5 rows × 27 columns</p>\n",
       "</div>"
      ],
      "text/plain": [
       "    Timestamp  Version           _id                    _index  _score  \\\n",
       "0  28-01-1970       21  ccbe5537365a  pingf-sys-log-01-08-2003    9381   \n",
       "1  24-06-1978       22  2d8e9958f7ed  pingf-sys-log-10-08-2018    9896   \n",
       "2  28-05-2014       23  c283e0c0fcc2  pingf-sys-log-10-07-2009    2428   \n",
       "3  30-04-1971       24  fbce06eaee7c  pingf-sys-log-20-06-1993    2857   \n",
       "4  27-02-2006       25  46b8193fdeb9  pingf-sys-log-18-12-1971    7804   \n",
       "\n",
       "               _type         beat.hostname             beat.name  \\\n",
       "0  pingf-sys-log2783        April York9457        April York9457   \n",
       "1  pingf-sys-log8663  Elizabeth Harris3569  Elizabeth Harris3569   \n",
       "2  pingf-sys-log1132        Linda King7727        Linda King7727   \n",
       "3  pingf-sys-log6061       Brian Jones8614       Brian Jones8614   \n",
       "4  pingf-sys-log6181       Craig Patel1865       Craig Patel1865   \n",
       "\n",
       "     beat.version       clientIp  ...     offset project responseCode  \\\n",
       "0  7972.8976.1261  192.168.0.139  ...   186.8597   pingf     ('300',)   \n",
       "1  9369.7390.4458  192.168.0.138  ...  5953.4990   pingf     ('500',)   \n",
       "2  4606.2286.2349  192.168.0.138  ...  1196.9563   pingf     ('200',)   \n",
       "3  1626.4908.1802  192.168.0.167  ...  9006.1887   pingf     ('500',)   \n",
       "4  4189.5035.6999   192.168.0.26  ...  7896.9035   pingf     ('500',)   \n",
       "\n",
       "   responseTime                                             source  \\\n",
       "0      09:51:11  /economy/federal.numbers1973-05-29response2952...   \n",
       "1      16:48:07          /least/rest.bmp1979-07-15response4956.log   \n",
       "2      05:16:23    /artist/customer.flac1999-02-28response3129.log   \n",
       "3      08:37:32      /available/teach.doc2003-04-10request4673.log   \n",
       "4      07:41:37    /politics/company.png1998-03-30response7314.log   \n",
       "\n",
       "                                                tags timestamp  \\\n",
       "0  pingf, qa, ping-federate, gcc, beats input cod...  21:26:46   \n",
       "1  pingf, qa, ping-federate, gcc, beats input cod...  19:03:54   \n",
       "2  pingf, qa, ping-federate, gcc, beats input cod...  02:54:49   \n",
       "3  pingf, qa, ping-federate, gcc, beats input cod...  00:23:40   \n",
       "4  pingf, qa, ping-federate, gcc, beats input cod...  22:09:20   \n",
       "\n",
       "                type                                     uri Bandwidth_in_Mbps  \n",
       "0  pingf-sys-log2783     https://example.com/unit/police.mp4               519  \n",
       "1  pingf-sys-log8663       https://example.com/Mrs/else.webm               829  \n",
       "2  pingf-sys-log1132   https://example.com/approach/do.pages               769  \n",
       "3  pingf-sys-log6061       https://example.com/yeah/hour.png               733  \n",
       "4  pingf-sys-log6181  https://example.com/case/difficult.pdf               901  \n",
       "\n",
       "[5 rows x 27 columns]"
      ]
     },
     "execution_count": 4,
     "metadata": {},
     "output_type": "execute_result"
    }
   ],
   "source": [
    "df.head()"
   ]
  },
  {
   "cell_type": "code",
   "execution_count": 5,
   "metadata": {
    "execution": {
     "iopub.execute_input": "2023-08-05T06:29:55.638559Z",
     "iopub.status.busy": "2023-08-05T06:29:55.638200Z",
     "iopub.status.idle": "2023-08-05T06:30:02.140652Z",
     "shell.execute_reply": "2023-08-05T06:30:02.138999Z",
     "shell.execute_reply.started": "2023-08-05T06:29:55.638528Z"
    },
    "id": "Yczv6kfcV-0O",
    "outputId": "e6478355-6ca1-4c27-9995-fee4d5c65a7c"
   },
   "outputs": [
    {
     "name": "stdout",
     "output_type": "stream",
     "text": [
      "<class 'pandas.core.frame.DataFrame'>\n",
      "RangeIndex: 908659 entries, 0 to 908658\n",
      "Data columns (total 27 columns):\n",
      " #   Column             Non-Null Count   Dtype  \n",
      "---  ------             --------------   -----  \n",
      " 0   Timestamp          908659 non-null  object \n",
      " 1   Version            908659 non-null  int64  \n",
      " 2   _id                908659 non-null  object \n",
      " 3   _index             908659 non-null  object \n",
      " 4   _score             908659 non-null  int64  \n",
      " 5   _type              908659 non-null  object \n",
      " 6   beat.hostname      908659 non-null  object \n",
      " 7   beat.name          908659 non-null  object \n",
      " 8   beat.version       908659 non-null  object \n",
      " 9   clientIp           908659 non-null  object \n",
      " 10  env                908659 non-null  object \n",
      " 11  host               908659 non-null  object \n",
      " 12  hostname           908659 non-null  object \n",
      " 13  httpVersion        908659 non-null  float64\n",
      " 14  log-type           908659 non-null  object \n",
      " 15  message            908659 non-null  object \n",
      " 16  method             908659 non-null  object \n",
      " 17  offset             908659 non-null  float64\n",
      " 18  project            908659 non-null  object \n",
      " 19  responseCode       908659 non-null  object \n",
      " 20  responseTime       908659 non-null  object \n",
      " 21  source             908659 non-null  object \n",
      " 22  tags               908659 non-null  object \n",
      " 23  timestamp          908659 non-null  object \n",
      " 24  type               908659 non-null  object \n",
      " 25  uri                908659 non-null  object \n",
      " 26  Bandwidth_in_Mbps  908659 non-null  int64  \n",
      "dtypes: float64(2), int64(3), object(22)\n",
      "memory usage: 187.2+ MB\n"
     ]
    }
   ],
   "source": [
    "df.info()"
   ]
  },
  {
   "cell_type": "code",
   "execution_count": 6,
   "metadata": {
    "execution": {
     "iopub.execute_input": "2023-08-05T06:30:02.144583Z",
     "iopub.status.busy": "2023-08-05T06:30:02.144148Z",
     "iopub.status.idle": "2023-08-05T06:30:02.156981Z",
     "shell.execute_reply": "2023-08-05T06:30:02.155727Z",
     "shell.execute_reply.started": "2023-08-05T06:30:02.144547Z"
    },
    "id": "dMzMojLuV-0O",
    "outputId": "c0c666cf-6504-4d4e-d3b6-61422007f843"
   },
   "outputs": [
    {
     "data": {
      "text/plain": [
       "(908659, 27)"
      ]
     },
     "execution_count": 6,
     "metadata": {},
     "output_type": "execute_result"
    }
   ],
   "source": [
    "df.shape"
   ]
  },
  {
   "cell_type": "code",
   "execution_count": 7,
   "metadata": {
    "execution": {
     "iopub.execute_input": "2023-08-05T06:30:02.158996Z",
     "iopub.status.busy": "2023-08-05T06:30:02.158612Z",
     "iopub.status.idle": "2023-08-05T06:30:02.356634Z",
     "shell.execute_reply": "2023-08-05T06:30:02.355709Z",
     "shell.execute_reply.started": "2023-08-05T06:30:02.158963Z"
    },
    "id": "3FwQdX8bV-0O",
    "outputId": "fcc16e99-f505-4287-836f-8408314b7668"
   },
   "outputs": [
    {
     "data": {
      "text/html": [
       "<div>\n",
       "<style scoped>\n",
       "    .dataframe tbody tr th:only-of-type {\n",
       "        vertical-align: middle;\n",
       "    }\n",
       "\n",
       "    .dataframe tbody tr th {\n",
       "        vertical-align: top;\n",
       "    }\n",
       "\n",
       "    .dataframe thead th {\n",
       "        text-align: right;\n",
       "    }\n",
       "</style>\n",
       "<table border=\"1\" class=\"dataframe\">\n",
       "  <thead>\n",
       "    <tr style=\"text-align: right;\">\n",
       "      <th></th>\n",
       "      <th>Version</th>\n",
       "      <th>_score</th>\n",
       "      <th>httpVersion</th>\n",
       "      <th>offset</th>\n",
       "      <th>Bandwidth_in_Mbps</th>\n",
       "    </tr>\n",
       "  </thead>\n",
       "  <tbody>\n",
       "    <tr>\n",
       "      <th>count</th>\n",
       "      <td>908659.000000</td>\n",
       "      <td>908659.000000</td>\n",
       "      <td>9.086590e+05</td>\n",
       "      <td>908659.000000</td>\n",
       "      <td>908659.000000</td>\n",
       "    </tr>\n",
       "    <tr>\n",
       "      <th>mean</th>\n",
       "      <td>454350.000000</td>\n",
       "      <td>5000.112381</td>\n",
       "      <td>1.100000e+00</td>\n",
       "      <td>5000.415215</td>\n",
       "      <td>500.099086</td>\n",
       "    </tr>\n",
       "    <tr>\n",
       "      <th>std</th>\n",
       "      <td>262307.403462</td>\n",
       "      <td>2887.426242</td>\n",
       "      <td>1.609913e-11</td>\n",
       "      <td>2887.465419</td>\n",
       "      <td>289.021949</td>\n",
       "    </tr>\n",
       "    <tr>\n",
       "      <th>min</th>\n",
       "      <td>21.000000</td>\n",
       "      <td>0.000000</td>\n",
       "      <td>1.100000e+00</td>\n",
       "      <td>0.103600</td>\n",
       "      <td>1.000000</td>\n",
       "    </tr>\n",
       "    <tr>\n",
       "      <th>25%</th>\n",
       "      <td>227185.500000</td>\n",
       "      <td>2500.000000</td>\n",
       "      <td>1.100000e+00</td>\n",
       "      <td>2498.277550</td>\n",
       "      <td>249.000000</td>\n",
       "    </tr>\n",
       "    <tr>\n",
       "      <th>50%</th>\n",
       "      <td>454350.000000</td>\n",
       "      <td>5002.000000</td>\n",
       "      <td>1.100000e+00</td>\n",
       "      <td>4997.528200</td>\n",
       "      <td>501.000000</td>\n",
       "    </tr>\n",
       "    <tr>\n",
       "      <th>75%</th>\n",
       "      <td>681514.500000</td>\n",
       "      <td>7504.000000</td>\n",
       "      <td>1.100000e+00</td>\n",
       "      <td>7505.380450</td>\n",
       "      <td>751.000000</td>\n",
       "    </tr>\n",
       "    <tr>\n",
       "      <th>max</th>\n",
       "      <td>908679.000000</td>\n",
       "      <td>9999.000000</td>\n",
       "      <td>1.100000e+00</td>\n",
       "      <td>9999.945600</td>\n",
       "      <td>999.000000</td>\n",
       "    </tr>\n",
       "  </tbody>\n",
       "</table>\n",
       "</div>"
      ],
      "text/plain": [
       "             Version         _score   httpVersion         offset  \\\n",
       "count  908659.000000  908659.000000  9.086590e+05  908659.000000   \n",
       "mean   454350.000000    5000.112381  1.100000e+00    5000.415215   \n",
       "std    262307.403462    2887.426242  1.609913e-11    2887.465419   \n",
       "min        21.000000       0.000000  1.100000e+00       0.103600   \n",
       "25%    227185.500000    2500.000000  1.100000e+00    2498.277550   \n",
       "50%    454350.000000    5002.000000  1.100000e+00    4997.528200   \n",
       "75%    681514.500000    7504.000000  1.100000e+00    7505.380450   \n",
       "max    908679.000000    9999.000000  1.100000e+00    9999.945600   \n",
       "\n",
       "       Bandwidth_in_Mbps  \n",
       "count      908659.000000  \n",
       "mean          500.099086  \n",
       "std           289.021949  \n",
       "min             1.000000  \n",
       "25%           249.000000  \n",
       "50%           501.000000  \n",
       "75%           751.000000  \n",
       "max           999.000000  "
      ]
     },
     "execution_count": 7,
     "metadata": {},
     "output_type": "execute_result"
    }
   ],
   "source": [
    "df.describe()"
   ]
  },
  {
   "cell_type": "code",
   "execution_count": 8,
   "metadata": {
    "execution": {
     "iopub.execute_input": "2023-08-05T06:30:02.357933Z",
     "iopub.status.busy": "2023-08-05T06:30:02.357592Z",
     "iopub.status.idle": "2023-08-05T06:30:08.957202Z",
     "shell.execute_reply": "2023-08-05T06:30:08.956314Z",
     "shell.execute_reply.started": "2023-08-05T06:30:02.357904Z"
    },
    "id": "NeWZuZ71V-0O",
    "outputId": "dd59f99e-b2d3-4f04-b00f-7fe4033bb29f"
   },
   "outputs": [
    {
     "name": "stdout",
     "output_type": "stream",
     "text": [
      "Timestamp            0\n",
      "Version              0\n",
      "_id                  0\n",
      "_index               0\n",
      "_score               0\n",
      "_type                0\n",
      "beat.hostname        0\n",
      "beat.name            0\n",
      "beat.version         0\n",
      "clientIp             0\n",
      "env                  0\n",
      "host                 0\n",
      "hostname             0\n",
      "httpVersion          0\n",
      "log-type             0\n",
      "message              0\n",
      "method               0\n",
      "offset               0\n",
      "project              0\n",
      "responseCode         0\n",
      "responseTime         0\n",
      "source               0\n",
      "tags                 0\n",
      "timestamp            0\n",
      "type                 0\n",
      "uri                  0\n",
      "Bandwidth_in_Mbps    0\n"
     ]
    }
   ],
   "source": [
    "#null values\n",
    "df_null_values = df.isnull().sum()\n",
    "print(df_null_values.to_string())"
   ]
  },
  {
   "cell_type": "code",
   "execution_count": 9,
   "metadata": {
    "execution": {
     "iopub.execute_input": "2023-08-05T06:30:08.959126Z",
     "iopub.status.busy": "2023-08-05T06:30:08.958582Z",
     "iopub.status.idle": "2023-08-05T06:30:14.513436Z",
     "shell.execute_reply": "2023-08-05T06:30:14.512031Z",
     "shell.execute_reply.started": "2023-08-05T06:30:08.959094Z"
    },
    "id": "PAINCW4hV-0P",
    "outputId": "ddf7dadb-2508-477d-ac54-a5f78c54a6ed"
   },
   "outputs": [
    {
     "name": "stdout",
     "output_type": "stream",
     "text": [
      "Infinite values:         Timestamp  Version    _id  _index  _score  _type  beat.hostname  \\\n",
      "0           False    False  False   False   False  False          False   \n",
      "1           False    False  False   False   False  False          False   \n",
      "2           False    False  False   False   False  False          False   \n",
      "3           False    False  False   False   False  False          False   \n",
      "4           False    False  False   False   False  False          False   \n",
      "...           ...      ...    ...     ...     ...    ...            ...   \n",
      "908654      False    False  False   False   False  False          False   \n",
      "908655      False    False  False   False   False  False          False   \n",
      "908656      False    False  False   False   False  False          False   \n",
      "908657      False    False  False   False   False  False          False   \n",
      "908658      False    False  False   False   False  False          False   \n",
      "\n",
      "        beat.name  beat.version  clientIp  ...  offset  project  responseCode  \\\n",
      "0           False         False     False  ...   False    False         False   \n",
      "1           False         False     False  ...   False    False         False   \n",
      "2           False         False     False  ...   False    False         False   \n",
      "3           False         False     False  ...   False    False         False   \n",
      "4           False         False     False  ...   False    False         False   \n",
      "...           ...           ...       ...  ...     ...      ...           ...   \n",
      "908654      False         False     False  ...   False    False         False   \n",
      "908655      False         False     False  ...   False    False         False   \n",
      "908656      False         False     False  ...   False    False         False   \n",
      "908657      False         False     False  ...   False    False         False   \n",
      "908658      False         False     False  ...   False    False         False   \n",
      "\n",
      "        responseTime  source   tags  timestamp   type    uri  \\\n",
      "0              False   False  False      False  False  False   \n",
      "1              False   False  False      False  False  False   \n",
      "2              False   False  False      False  False  False   \n",
      "3              False   False  False      False  False  False   \n",
      "4              False   False  False      False  False  False   \n",
      "...              ...     ...    ...        ...    ...    ...   \n",
      "908654         False   False  False      False  False  False   \n",
      "908655         False   False  False      False  False  False   \n",
      "908656         False   False  False      False  False  False   \n",
      "908657         False   False  False      False  False  False   \n",
      "908658         False   False  False      False  False  False   \n",
      "\n",
      "        Bandwidth_in_Mbps  \n",
      "0                   False  \n",
      "1                   False  \n",
      "2                   False  \n",
      "3                   False  \n",
      "4                   False  \n",
      "...                   ...  \n",
      "908654              False  \n",
      "908655              False  \n",
      "908656              False  \n",
      "908657              False  \n",
      "908658              False  \n",
      "\n",
      "[908659 rows x 27 columns]\n"
     ]
    }
   ],
   "source": [
    "#inf values\n",
    "ds = df.isin([np.inf, -np.inf])\n",
    "print(\"Infinite values:\" ,ds)"
   ]
  },
  {
   "cell_type": "code",
   "execution_count": 10,
   "metadata": {
    "execution": {
     "iopub.execute_input": "2023-08-05T06:30:14.515866Z",
     "iopub.status.busy": "2023-08-05T06:30:14.515411Z",
     "iopub.status.idle": "2023-08-05T06:30:14.533192Z",
     "shell.execute_reply": "2023-08-05T06:30:14.531062Z",
     "shell.execute_reply.started": "2023-08-05T06:30:14.515820Z"
    },
    "id": "CW6pN_EkV-0P",
    "outputId": "32b6b0a3-b931-44a8-c25d-33f8e217a9cb"
   },
   "outputs": [
    {
     "name": "stdout",
     "output_type": "stream",
     "text": [
      "Total negative values in 'Version': 0\n",
      "Total negative values in 'httpVersion': 0\n",
      "Total negative values in 'offset': 0\n",
      "Total negative values in 'Bandwidth_in_Mbps': 0\n"
     ]
    }
   ],
   "source": [
    "include_columns = ['Version','httpVersion','offset','Bandwidth_in_Mbps']\n",
    "for column in df.columns:\n",
    "    if column in include_columns:\n",
    "        num_negatives = (df[column] < 0).sum()\n",
    "        print(f\"Total negative values in '{column}': {num_negatives}\")"
   ]
  },
  {
   "cell_type": "markdown",
   "metadata": {
    "id": "WXXB6S3xV-0P"
   },
   "source": [
    "# Columns needed\n",
    "* _id\n",
    "* _score\n",
    "* clientIp\n",
    "* log-type\n",
    "* method\n",
    "* responseCode\n",
    "* responseTime\n",
    "* Bandwidth_in_Mbps"
   ]
  },
  {
   "cell_type": "code",
   "execution_count": 11,
   "metadata": {
    "execution": {
     "iopub.execute_input": "2023-08-05T06:30:14.535127Z",
     "iopub.status.busy": "2023-08-05T06:30:14.534758Z",
     "iopub.status.idle": "2023-08-05T06:30:14.608325Z",
     "shell.execute_reply": "2023-08-05T06:30:14.607129Z",
     "shell.execute_reply.started": "2023-08-05T06:30:14.535093Z"
    },
    "id": "f90llEabV-0P",
    "outputId": "8a628d41-e477-4ee5-8ff7-4c27281d4404"
   },
   "outputs": [
    {
     "name": "stdout",
     "output_type": "stream",
     "text": [
      "                 _id  _score       clientIp       log-type   method  \\\n",
      "0       ccbe5537365a    9381  192.168.0.139   ('request',)      GET   \n",
      "1       2d8e9958f7ed    9896  192.168.0.138  ('response',)     POST   \n",
      "2       c283e0c0fcc2    2428  192.168.0.138   ('request',)      GET   \n",
      "3       fbce06eaee7c    2857  192.168.0.167  ('response',)     POST   \n",
      "4       46b8193fdeb9    7804   192.168.0.26  ('response',)     POST   \n",
      "...              ...     ...            ...            ...      ...   \n",
      "908654  3cb003dafc93    4709  192.168.0.254   ('request',)      GET   \n",
      "908655  c69866828018     890   192.168.0.25   ('request',)   DELETE   \n",
      "908656  9e10f837b2eb    1135   192.168.0.34  ('response',)     POST   \n",
      "908657  9a385df2c69e    8630  192.168.0.167   ('request',)  OPTIONS   \n",
      "908658  f5a3966681bb    5876   192.168.0.98   ('request',)     POST   \n",
      "\n",
      "       responseCode responseTime  Bandwidth_in_Mbps  \n",
      "0          ('300',)     09:51:11                519  \n",
      "1          ('500',)     16:48:07                829  \n",
      "2          ('200',)     05:16:23                769  \n",
      "3          ('500',)     08:37:32                733  \n",
      "4          ('500',)     07:41:37                901  \n",
      "...             ...          ...                ...  \n",
      "908654     ('500',)     17:55:09                417  \n",
      "908655     ('200',)     21:08:15                109  \n",
      "908656     ('500',)     11:10:33                947  \n",
      "908657     ('400',)     07:41:41                877  \n",
      "908658     ('300',)     08:08:41                663  \n",
      "\n",
      "[908659 rows x 8 columns]\n"
     ]
    }
   ],
   "source": [
    "#dropping the rest of the columns\n",
    "columns_to_keep = ['_id', '_score', 'clientIp', 'log-type', 'method', 'responseCode', 'responseTime', 'Bandwidth_in_Mbps']\n",
    "df = df[columns_to_keep]\n",
    "print(df)"
   ]
  },
  {
   "cell_type": "code",
   "execution_count": 12,
   "metadata": {
    "execution": {
     "iopub.execute_input": "2023-08-05T06:30:14.610877Z",
     "iopub.status.busy": "2023-08-05T06:30:14.610147Z",
     "iopub.status.idle": "2023-08-05T06:30:14.623171Z",
     "shell.execute_reply": "2023-08-05T06:30:14.621903Z",
     "shell.execute_reply.started": "2023-08-05T06:30:14.610834Z"
    },
    "id": "qI0j8OHAV-0Q",
    "outputId": "205b535a-1e05-4954-a975-2b98f9e2bb9d"
   },
   "outputs": [],
   "source": [
    "df['_score'] = df['_score'] / 100"
   ]
  },
  {
   "cell_type": "code",
   "execution_count": 13,
   "metadata": {
    "execution": {
     "iopub.execute_input": "2023-08-05T06:30:14.626255Z",
     "iopub.status.busy": "2023-08-05T06:30:14.625503Z",
     "iopub.status.idle": "2023-08-05T06:30:14.645859Z",
     "shell.execute_reply": "2023-08-05T06:30:14.644323Z",
     "shell.execute_reply.started": "2023-08-05T06:30:14.626192Z"
    },
    "id": "sG1ajx5tV-0Q",
    "outputId": "3cb4bb49-ca91-4c1f-8ac7-099711fb0a22"
   },
   "outputs": [
    {
     "data": {
      "text/html": [
       "<div>\n",
       "<style scoped>\n",
       "    .dataframe tbody tr th:only-of-type {\n",
       "        vertical-align: middle;\n",
       "    }\n",
       "\n",
       "    .dataframe tbody tr th {\n",
       "        vertical-align: top;\n",
       "    }\n",
       "\n",
       "    .dataframe thead th {\n",
       "        text-align: right;\n",
       "    }\n",
       "</style>\n",
       "<table border=\"1\" class=\"dataframe\">\n",
       "  <thead>\n",
       "    <tr style=\"text-align: right;\">\n",
       "      <th></th>\n",
       "      <th>_id</th>\n",
       "      <th>_score</th>\n",
       "      <th>clientIp</th>\n",
       "      <th>log-type</th>\n",
       "      <th>method</th>\n",
       "      <th>responseCode</th>\n",
       "      <th>responseTime</th>\n",
       "      <th>Bandwidth_in_Mbps</th>\n",
       "    </tr>\n",
       "  </thead>\n",
       "  <tbody>\n",
       "    <tr>\n",
       "      <th>0</th>\n",
       "      <td>ccbe5537365a</td>\n",
       "      <td>93.81</td>\n",
       "      <td>192.168.0.139</td>\n",
       "      <td>('request',)</td>\n",
       "      <td>GET</td>\n",
       "      <td>('300',)</td>\n",
       "      <td>09:51:11</td>\n",
       "      <td>519</td>\n",
       "    </tr>\n",
       "    <tr>\n",
       "      <th>1</th>\n",
       "      <td>2d8e9958f7ed</td>\n",
       "      <td>98.96</td>\n",
       "      <td>192.168.0.138</td>\n",
       "      <td>('response',)</td>\n",
       "      <td>POST</td>\n",
       "      <td>('500',)</td>\n",
       "      <td>16:48:07</td>\n",
       "      <td>829</td>\n",
       "    </tr>\n",
       "    <tr>\n",
       "      <th>2</th>\n",
       "      <td>c283e0c0fcc2</td>\n",
       "      <td>24.28</td>\n",
       "      <td>192.168.0.138</td>\n",
       "      <td>('request',)</td>\n",
       "      <td>GET</td>\n",
       "      <td>('200',)</td>\n",
       "      <td>05:16:23</td>\n",
       "      <td>769</td>\n",
       "    </tr>\n",
       "    <tr>\n",
       "      <th>3</th>\n",
       "      <td>fbce06eaee7c</td>\n",
       "      <td>28.57</td>\n",
       "      <td>192.168.0.167</td>\n",
       "      <td>('response',)</td>\n",
       "      <td>POST</td>\n",
       "      <td>('500',)</td>\n",
       "      <td>08:37:32</td>\n",
       "      <td>733</td>\n",
       "    </tr>\n",
       "    <tr>\n",
       "      <th>4</th>\n",
       "      <td>46b8193fdeb9</td>\n",
       "      <td>78.04</td>\n",
       "      <td>192.168.0.26</td>\n",
       "      <td>('response',)</td>\n",
       "      <td>POST</td>\n",
       "      <td>('500',)</td>\n",
       "      <td>07:41:37</td>\n",
       "      <td>901</td>\n",
       "    </tr>\n",
       "  </tbody>\n",
       "</table>\n",
       "</div>"
      ],
      "text/plain": [
       "            _id  _score       clientIp       log-type method responseCode  \\\n",
       "0  ccbe5537365a   93.81  192.168.0.139   ('request',)    GET     ('300',)   \n",
       "1  2d8e9958f7ed   98.96  192.168.0.138  ('response',)   POST     ('500',)   \n",
       "2  c283e0c0fcc2   24.28  192.168.0.138   ('request',)    GET     ('200',)   \n",
       "3  fbce06eaee7c   28.57  192.168.0.167  ('response',)   POST     ('500',)   \n",
       "4  46b8193fdeb9   78.04   192.168.0.26  ('response',)   POST     ('500',)   \n",
       "\n",
       "  responseTime  Bandwidth_in_Mbps  \n",
       "0     09:51:11                519  \n",
       "1     16:48:07                829  \n",
       "2     05:16:23                769  \n",
       "3     08:37:32                733  \n",
       "4     07:41:37                901  "
      ]
     },
     "execution_count": 13,
     "metadata": {},
     "output_type": "execute_result"
    }
   ],
   "source": [
    "df.head()"
   ]
  },
  {
   "cell_type": "code",
   "execution_count": 14,
   "metadata": {
    "execution": {
     "iopub.execute_input": "2023-08-05T06:30:14.647966Z",
     "iopub.status.busy": "2023-08-05T06:30:14.647599Z",
     "iopub.status.idle": "2023-08-05T06:30:14.697135Z",
     "shell.execute_reply": "2023-08-05T06:30:14.696277Z",
     "shell.execute_reply.started": "2023-08-05T06:30:14.647934Z"
    },
    "id": "_aKijkMwO2L3"
   },
   "outputs": [],
   "source": [
    "df_new = df.copy()"
   ]
  },
  {
   "cell_type": "code",
   "execution_count": 15,
   "metadata": {
    "execution": {
     "iopub.execute_input": "2023-08-05T06:30:14.705691Z",
     "iopub.status.busy": "2023-08-05T06:30:14.704566Z",
     "iopub.status.idle": "2023-08-05T06:30:16.471886Z",
     "shell.execute_reply": "2023-08-05T06:30:16.470488Z",
     "shell.execute_reply.started": "2023-08-05T06:30:14.705651Z"
    },
    "id": "kW1qWG2zV-0R",
    "outputId": "e5b8dde8-b446-4a6a-8087-366f6c5958c1"
   },
   "outputs": [
    {
     "name": "stdout",
     "output_type": "stream",
     "text": [
      "<class 'pandas.core.frame.DataFrame'>\n",
      "RangeIndex: 908659 entries, 0 to 908658\n",
      "Data columns (total 8 columns):\n",
      " #   Column             Non-Null Count   Dtype  \n",
      "---  ------             --------------   -----  \n",
      " 0   _id                908659 non-null  object \n",
      " 1   _score             908659 non-null  float64\n",
      " 2   clientIp           908659 non-null  object \n",
      " 3   log-type           908659 non-null  object \n",
      " 4   method             908659 non-null  object \n",
      " 5   responseCode       908659 non-null  object \n",
      " 6   responseTime       908659 non-null  object \n",
      " 7   Bandwidth_in_Mbps  908659 non-null  int64  \n",
      "dtypes: float64(1), int64(1), object(6)\n",
      "memory usage: 55.5+ MB\n"
     ]
    }
   ],
   "source": [
    "df.info()"
   ]
  },
  {
   "cell_type": "code",
   "execution_count": 16,
   "metadata": {
    "execution": {
     "iopub.execute_input": "2023-08-05T06:30:16.474099Z",
     "iopub.status.busy": "2023-08-05T06:30:16.473198Z",
     "iopub.status.idle": "2023-08-05T06:30:16.576464Z",
     "shell.execute_reply": "2023-08-05T06:30:16.575428Z",
     "shell.execute_reply.started": "2023-08-05T06:30:16.474051Z"
    },
    "id": "rz1bV9qBV-0R",
    "outputId": "1b427fa7-97a0-4df1-ad43-01554a3c36d4"
   },
   "outputs": [
    {
     "data": {
      "text/html": [
       "<div>\n",
       "<style scoped>\n",
       "    .dataframe tbody tr th:only-of-type {\n",
       "        vertical-align: middle;\n",
       "    }\n",
       "\n",
       "    .dataframe tbody tr th {\n",
       "        vertical-align: top;\n",
       "    }\n",
       "\n",
       "    .dataframe thead th {\n",
       "        text-align: right;\n",
       "    }\n",
       "</style>\n",
       "<table border=\"1\" class=\"dataframe\">\n",
       "  <thead>\n",
       "    <tr style=\"text-align: right;\">\n",
       "      <th></th>\n",
       "      <th>_score</th>\n",
       "      <th>Bandwidth_in_Mbps</th>\n",
       "    </tr>\n",
       "  </thead>\n",
       "  <tbody>\n",
       "    <tr>\n",
       "      <th>count</th>\n",
       "      <td>908659.000000</td>\n",
       "      <td>908659.000000</td>\n",
       "    </tr>\n",
       "    <tr>\n",
       "      <th>mean</th>\n",
       "      <td>50.001124</td>\n",
       "      <td>500.099086</td>\n",
       "    </tr>\n",
       "    <tr>\n",
       "      <th>std</th>\n",
       "      <td>28.874262</td>\n",
       "      <td>289.021949</td>\n",
       "    </tr>\n",
       "    <tr>\n",
       "      <th>min</th>\n",
       "      <td>0.000000</td>\n",
       "      <td>1.000000</td>\n",
       "    </tr>\n",
       "    <tr>\n",
       "      <th>25%</th>\n",
       "      <td>25.000000</td>\n",
       "      <td>249.000000</td>\n",
       "    </tr>\n",
       "    <tr>\n",
       "      <th>50%</th>\n",
       "      <td>50.020000</td>\n",
       "      <td>501.000000</td>\n",
       "    </tr>\n",
       "    <tr>\n",
       "      <th>75%</th>\n",
       "      <td>75.040000</td>\n",
       "      <td>751.000000</td>\n",
       "    </tr>\n",
       "    <tr>\n",
       "      <th>max</th>\n",
       "      <td>99.990000</td>\n",
       "      <td>999.000000</td>\n",
       "    </tr>\n",
       "  </tbody>\n",
       "</table>\n",
       "</div>"
      ],
      "text/plain": [
       "              _score  Bandwidth_in_Mbps\n",
       "count  908659.000000      908659.000000\n",
       "mean       50.001124         500.099086\n",
       "std        28.874262         289.021949\n",
       "min         0.000000           1.000000\n",
       "25%        25.000000         249.000000\n",
       "50%        50.020000         501.000000\n",
       "75%        75.040000         751.000000\n",
       "max        99.990000         999.000000"
      ]
     },
     "execution_count": 16,
     "metadata": {},
     "output_type": "execute_result"
    }
   ],
   "source": [
    "df.describe()"
   ]
  },
  {
   "cell_type": "code",
   "execution_count": 17,
   "metadata": {
    "execution": {
     "iopub.execute_input": "2023-08-05T06:30:16.578359Z",
     "iopub.status.busy": "2023-08-05T06:30:16.578007Z",
     "iopub.status.idle": "2023-08-05T06:30:17.226324Z",
     "shell.execute_reply": "2023-08-05T06:30:17.224998Z",
     "shell.execute_reply.started": "2023-08-05T06:30:16.578329Z"
    },
    "id": "ZIlvvfLJV-0S",
    "outputId": "b6300b15-0d49-475b-cfe9-10747a8fab11"
   },
   "outputs": [
    {
     "name": "stdout",
     "output_type": "stream",
     "text": [
      "_id  908659\n",
      "clientIp  256\n",
      "log-type  2\n",
      "method  5\n",
      "responseCode  4\n"
     ]
    }
   ],
   "source": [
    "count = df['_id'].nunique()\n",
    "print('_id ',count)\n",
    "count = df['clientIp'].nunique()\n",
    "print('clientIp ',count)\n",
    "count = df['log-type'].nunique()\n",
    "print('log-type ',count)\n",
    "count = df['method'].nunique()\n",
    "print('method ',count)\n",
    "count = df['responseCode'].nunique()\n",
    "print('responseCode ',count)"
   ]
  },
  {
   "cell_type": "markdown",
   "metadata": {
    "id": "MOkkVppUV-0S"
   },
   "source": [
    "i dont think we need to do encoding for id/ use id for clustering as everything is a unique value"
   ]
  },
  {
   "cell_type": "markdown",
   "metadata": {
    "id": "87FQSNHxpJhj"
   },
   "source": [
    "[Types of Encoding](https://www.analyticsvidhya.com/blog/2020/08/types-of-categorical-data-encoding/)\n",
    "\n",
    "![Encoding.png](data:image/png;base64,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)"
   ]
  },
  {
   "cell_type": "markdown",
   "metadata": {
    "id": "MRT_0I62V-0S"
   },
   "source": [
    "# One Hot Encoding"
   ]
  },
  {
   "cell_type": "code",
   "execution_count": 18,
   "metadata": {
    "execution": {
     "iopub.execute_input": "2023-08-05T06:30:17.228039Z",
     "iopub.status.busy": "2023-08-05T06:30:17.227711Z",
     "iopub.status.idle": "2023-08-05T06:30:17.327288Z",
     "shell.execute_reply": "2023-08-05T06:30:17.325990Z",
     "shell.execute_reply.started": "2023-08-05T06:30:17.228008Z"
    },
    "id": "LOyYEy-3qavV"
   },
   "outputs": [],
   "source": [
    "data_OH = df.copy()"
   ]
  },
  {
   "cell_type": "code",
   "execution_count": 19,
   "metadata": {
    "execution": {
     "iopub.execute_input": "2023-08-05T06:30:17.329307Z",
     "iopub.status.busy": "2023-08-05T06:30:17.328889Z",
     "iopub.status.idle": "2023-08-05T06:30:18.205060Z",
     "shell.execute_reply": "2023-08-05T06:30:18.203571Z",
     "shell.execute_reply.started": "2023-08-05T06:30:17.329265Z"
    },
    "id": "FWGz6I11sr1J"
   },
   "outputs": [],
   "source": [
    "categorical_columns = ['method','log-type','responseCode']\n",
    "for col in categorical_columns:\n",
    "    col_ohe = pd.get_dummies(data_OH[col], prefix=col)\n",
    "    data_OH = pd.concat((data_OH, col_ohe), axis=1).drop(col, axis=1)"
   ]
  },
  {
   "cell_type": "code",
   "execution_count": 20,
   "metadata": {
    "execution": {
     "iopub.execute_input": "2023-08-05T06:30:18.207500Z",
     "iopub.status.busy": "2023-08-05T06:30:18.207021Z",
     "iopub.status.idle": "2023-08-05T06:30:18.228421Z",
     "shell.execute_reply": "2023-08-05T06:30:18.227017Z",
     "shell.execute_reply.started": "2023-08-05T06:30:18.207462Z"
    },
    "id": "V7y_FALatS93",
    "outputId": "3cbbb21e-4a0e-4014-9480-e5b75dad81dc"
   },
   "outputs": [
    {
     "data": {
      "text/html": [
       "<div>\n",
       "<style scoped>\n",
       "    .dataframe tbody tr th:only-of-type {\n",
       "        vertical-align: middle;\n",
       "    }\n",
       "\n",
       "    .dataframe tbody tr th {\n",
       "        vertical-align: top;\n",
       "    }\n",
       "\n",
       "    .dataframe thead th {\n",
       "        text-align: right;\n",
       "    }\n",
       "</style>\n",
       "<table border=\"1\" class=\"dataframe\">\n",
       "  <thead>\n",
       "    <tr style=\"text-align: right;\">\n",
       "      <th></th>\n",
       "      <th>_id</th>\n",
       "      <th>_score</th>\n",
       "      <th>clientIp</th>\n",
       "      <th>responseTime</th>\n",
       "      <th>Bandwidth_in_Mbps</th>\n",
       "      <th>method_DELETE</th>\n",
       "      <th>method_GET</th>\n",
       "      <th>method_OPTIONS</th>\n",
       "      <th>method_POST</th>\n",
       "      <th>method_PUT</th>\n",
       "      <th>log-type_('request',)</th>\n",
       "      <th>log-type_('response',)</th>\n",
       "      <th>responseCode_('200',)</th>\n",
       "      <th>responseCode_('300',)</th>\n",
       "      <th>responseCode_('400',)</th>\n",
       "      <th>responseCode_('500',)</th>\n",
       "    </tr>\n",
       "  </thead>\n",
       "  <tbody>\n",
       "    <tr>\n",
       "      <th>0</th>\n",
       "      <td>ccbe5537365a</td>\n",
       "      <td>93.81</td>\n",
       "      <td>192.168.0.139</td>\n",
       "      <td>09:51:11</td>\n",
       "      <td>519</td>\n",
       "      <td>0</td>\n",
       "      <td>1</td>\n",
       "      <td>0</td>\n",
       "      <td>0</td>\n",
       "      <td>0</td>\n",
       "      <td>1</td>\n",
       "      <td>0</td>\n",
       "      <td>0</td>\n",
       "      <td>1</td>\n",
       "      <td>0</td>\n",
       "      <td>0</td>\n",
       "    </tr>\n",
       "    <tr>\n",
       "      <th>1</th>\n",
       "      <td>2d8e9958f7ed</td>\n",
       "      <td>98.96</td>\n",
       "      <td>192.168.0.138</td>\n",
       "      <td>16:48:07</td>\n",
       "      <td>829</td>\n",
       "      <td>0</td>\n",
       "      <td>0</td>\n",
       "      <td>0</td>\n",
       "      <td>1</td>\n",
       "      <td>0</td>\n",
       "      <td>0</td>\n",
       "      <td>1</td>\n",
       "      <td>0</td>\n",
       "      <td>0</td>\n",
       "      <td>0</td>\n",
       "      <td>1</td>\n",
       "    </tr>\n",
       "    <tr>\n",
       "      <th>2</th>\n",
       "      <td>c283e0c0fcc2</td>\n",
       "      <td>24.28</td>\n",
       "      <td>192.168.0.138</td>\n",
       "      <td>05:16:23</td>\n",
       "      <td>769</td>\n",
       "      <td>0</td>\n",
       "      <td>1</td>\n",
       "      <td>0</td>\n",
       "      <td>0</td>\n",
       "      <td>0</td>\n",
       "      <td>1</td>\n",
       "      <td>0</td>\n",
       "      <td>1</td>\n",
       "      <td>0</td>\n",
       "      <td>0</td>\n",
       "      <td>0</td>\n",
       "    </tr>\n",
       "    <tr>\n",
       "      <th>3</th>\n",
       "      <td>fbce06eaee7c</td>\n",
       "      <td>28.57</td>\n",
       "      <td>192.168.0.167</td>\n",
       "      <td>08:37:32</td>\n",
       "      <td>733</td>\n",
       "      <td>0</td>\n",
       "      <td>0</td>\n",
       "      <td>0</td>\n",
       "      <td>1</td>\n",
       "      <td>0</td>\n",
       "      <td>0</td>\n",
       "      <td>1</td>\n",
       "      <td>0</td>\n",
       "      <td>0</td>\n",
       "      <td>0</td>\n",
       "      <td>1</td>\n",
       "    </tr>\n",
       "    <tr>\n",
       "      <th>4</th>\n",
       "      <td>46b8193fdeb9</td>\n",
       "      <td>78.04</td>\n",
       "      <td>192.168.0.26</td>\n",
       "      <td>07:41:37</td>\n",
       "      <td>901</td>\n",
       "      <td>0</td>\n",
       "      <td>0</td>\n",
       "      <td>0</td>\n",
       "      <td>1</td>\n",
       "      <td>0</td>\n",
       "      <td>0</td>\n",
       "      <td>1</td>\n",
       "      <td>0</td>\n",
       "      <td>0</td>\n",
       "      <td>0</td>\n",
       "      <td>1</td>\n",
       "    </tr>\n",
       "  </tbody>\n",
       "</table>\n",
       "</div>"
      ],
      "text/plain": [
       "            _id  _score       clientIp responseTime  Bandwidth_in_Mbps  \\\n",
       "0  ccbe5537365a   93.81  192.168.0.139     09:51:11                519   \n",
       "1  2d8e9958f7ed   98.96  192.168.0.138     16:48:07                829   \n",
       "2  c283e0c0fcc2   24.28  192.168.0.138     05:16:23                769   \n",
       "3  fbce06eaee7c   28.57  192.168.0.167     08:37:32                733   \n",
       "4  46b8193fdeb9   78.04   192.168.0.26     07:41:37                901   \n",
       "\n",
       "   method_DELETE  method_GET  method_OPTIONS  method_POST  method_PUT  \\\n",
       "0              0           1               0            0           0   \n",
       "1              0           0               0            1           0   \n",
       "2              0           1               0            0           0   \n",
       "3              0           0               0            1           0   \n",
       "4              0           0               0            1           0   \n",
       "\n",
       "   log-type_('request',)  log-type_('response',)  responseCode_('200',)  \\\n",
       "0                      1                       0                      0   \n",
       "1                      0                       1                      0   \n",
       "2                      1                       0                      1   \n",
       "3                      0                       1                      0   \n",
       "4                      0                       1                      0   \n",
       "\n",
       "   responseCode_('300',)  responseCode_('400',)  responseCode_('500',)  \n",
       "0                      1                      0                      0  \n",
       "1                      0                      0                      1  \n",
       "2                      0                      0                      0  \n",
       "3                      0                      0                      1  \n",
       "4                      0                      0                      1  "
      ]
     },
     "execution_count": 20,
     "metadata": {},
     "output_type": "execute_result"
    }
   ],
   "source": [
    "data_OH.head()"
   ]
  },
  {
   "cell_type": "markdown",
   "metadata": {
    "id": "0fuM2gkwo59l"
   },
   "source": [
    "# Base N Encoding"
   ]
  },
  {
   "cell_type": "code",
   "execution_count": 21,
   "metadata": {
    "execution": {
     "iopub.execute_input": "2023-08-05T06:30:18.230823Z",
     "iopub.status.busy": "2023-08-05T06:30:18.230200Z",
     "iopub.status.idle": "2023-08-05T06:30:20.795351Z",
     "shell.execute_reply": "2023-08-05T06:30:20.794193Z",
     "shell.execute_reply.started": "2023-08-05T06:30:18.230656Z"
    },
    "id": "P4HalGHnz82_",
    "outputId": "5ac9792d-d6fb-444c-de9f-593e80775110"
   },
   "outputs": [
    {
     "data": {
      "text/html": [
       "<div>\n",
       "<style scoped>\n",
       "    .dataframe tbody tr th:only-of-type {\n",
       "        vertical-align: middle;\n",
       "    }\n",
       "\n",
       "    .dataframe tbody tr th {\n",
       "        vertical-align: top;\n",
       "    }\n",
       "\n",
       "    .dataframe thead th {\n",
       "        text-align: right;\n",
       "    }\n",
       "</style>\n",
       "<table border=\"1\" class=\"dataframe\">\n",
       "  <thead>\n",
       "    <tr style=\"text-align: right;\">\n",
       "      <th></th>\n",
       "      <th>_id</th>\n",
       "      <th>_score</th>\n",
       "      <th>clientIp</th>\n",
       "      <th>responseTime</th>\n",
       "      <th>Bandwidth_in_Mbps</th>\n",
       "      <th>method_DELETE</th>\n",
       "      <th>method_GET</th>\n",
       "      <th>method_OPTIONS</th>\n",
       "      <th>method_POST</th>\n",
       "      <th>method_PUT</th>\n",
       "      <th>...</th>\n",
       "      <th>method_GET</th>\n",
       "      <th>method_OPTIONS</th>\n",
       "      <th>method_POST</th>\n",
       "      <th>method_PUT</th>\n",
       "      <th>log-type_('request',)</th>\n",
       "      <th>log-type_('response',)</th>\n",
       "      <th>responseCode_('200',)</th>\n",
       "      <th>responseCode_('300',)</th>\n",
       "      <th>responseCode_('400',)</th>\n",
       "      <th>responseCode_('500',)</th>\n",
       "    </tr>\n",
       "  </thead>\n",
       "  <tbody>\n",
       "    <tr>\n",
       "      <th>0</th>\n",
       "      <td>ccbe5537365a</td>\n",
       "      <td>93.81</td>\n",
       "      <td>192.168.0.139</td>\n",
       "      <td>09:51:11</td>\n",
       "      <td>519</td>\n",
       "      <td>0</td>\n",
       "      <td>1</td>\n",
       "      <td>0</td>\n",
       "      <td>0</td>\n",
       "      <td>0</td>\n",
       "      <td>...</td>\n",
       "      <td>1</td>\n",
       "      <td>0</td>\n",
       "      <td>0</td>\n",
       "      <td>0</td>\n",
       "      <td>1</td>\n",
       "      <td>0</td>\n",
       "      <td>0</td>\n",
       "      <td>1</td>\n",
       "      <td>0</td>\n",
       "      <td>0</td>\n",
       "    </tr>\n",
       "    <tr>\n",
       "      <th>1</th>\n",
       "      <td>2d8e9958f7ed</td>\n",
       "      <td>98.96</td>\n",
       "      <td>192.168.0.138</td>\n",
       "      <td>16:48:07</td>\n",
       "      <td>829</td>\n",
       "      <td>0</td>\n",
       "      <td>0</td>\n",
       "      <td>0</td>\n",
       "      <td>1</td>\n",
       "      <td>0</td>\n",
       "      <td>...</td>\n",
       "      <td>0</td>\n",
       "      <td>0</td>\n",
       "      <td>1</td>\n",
       "      <td>0</td>\n",
       "      <td>0</td>\n",
       "      <td>1</td>\n",
       "      <td>0</td>\n",
       "      <td>0</td>\n",
       "      <td>0</td>\n",
       "      <td>1</td>\n",
       "    </tr>\n",
       "    <tr>\n",
       "      <th>2</th>\n",
       "      <td>c283e0c0fcc2</td>\n",
       "      <td>24.28</td>\n",
       "      <td>192.168.0.138</td>\n",
       "      <td>05:16:23</td>\n",
       "      <td>769</td>\n",
       "      <td>0</td>\n",
       "      <td>1</td>\n",
       "      <td>0</td>\n",
       "      <td>0</td>\n",
       "      <td>0</td>\n",
       "      <td>...</td>\n",
       "      <td>1</td>\n",
       "      <td>0</td>\n",
       "      <td>0</td>\n",
       "      <td>0</td>\n",
       "      <td>1</td>\n",
       "      <td>0</td>\n",
       "      <td>1</td>\n",
       "      <td>0</td>\n",
       "      <td>0</td>\n",
       "      <td>0</td>\n",
       "    </tr>\n",
       "    <tr>\n",
       "      <th>3</th>\n",
       "      <td>fbce06eaee7c</td>\n",
       "      <td>28.57</td>\n",
       "      <td>192.168.0.167</td>\n",
       "      <td>08:37:32</td>\n",
       "      <td>733</td>\n",
       "      <td>0</td>\n",
       "      <td>0</td>\n",
       "      <td>0</td>\n",
       "      <td>1</td>\n",
       "      <td>0</td>\n",
       "      <td>...</td>\n",
       "      <td>0</td>\n",
       "      <td>0</td>\n",
       "      <td>1</td>\n",
       "      <td>0</td>\n",
       "      <td>0</td>\n",
       "      <td>1</td>\n",
       "      <td>0</td>\n",
       "      <td>0</td>\n",
       "      <td>0</td>\n",
       "      <td>1</td>\n",
       "    </tr>\n",
       "    <tr>\n",
       "      <th>4</th>\n",
       "      <td>46b8193fdeb9</td>\n",
       "      <td>78.04</td>\n",
       "      <td>192.168.0.26</td>\n",
       "      <td>07:41:37</td>\n",
       "      <td>901</td>\n",
       "      <td>0</td>\n",
       "      <td>0</td>\n",
       "      <td>0</td>\n",
       "      <td>1</td>\n",
       "      <td>0</td>\n",
       "      <td>...</td>\n",
       "      <td>0</td>\n",
       "      <td>0</td>\n",
       "      <td>1</td>\n",
       "      <td>0</td>\n",
       "      <td>0</td>\n",
       "      <td>1</td>\n",
       "      <td>0</td>\n",
       "      <td>0</td>\n",
       "      <td>0</td>\n",
       "      <td>1</td>\n",
       "    </tr>\n",
       "  </tbody>\n",
       "</table>\n",
       "<p>5 rows × 34 columns</p>\n",
       "</div>"
      ],
      "text/plain": [
       "            _id  _score       clientIp responseTime  Bandwidth_in_Mbps  \\\n",
       "0  ccbe5537365a   93.81  192.168.0.139     09:51:11                519   \n",
       "1  2d8e9958f7ed   98.96  192.168.0.138     16:48:07                829   \n",
       "2  c283e0c0fcc2   24.28  192.168.0.138     05:16:23                769   \n",
       "3  fbce06eaee7c   28.57  192.168.0.167     08:37:32                733   \n",
       "4  46b8193fdeb9   78.04   192.168.0.26     07:41:37                901   \n",
       "\n",
       "   method_DELETE  method_GET  method_OPTIONS  method_POST  method_PUT  ...  \\\n",
       "0              0           1               0            0           0  ...   \n",
       "1              0           0               0            1           0  ...   \n",
       "2              0           1               0            0           0  ...   \n",
       "3              0           0               0            1           0  ...   \n",
       "4              0           0               0            1           0  ...   \n",
       "\n",
       "   method_GET  method_OPTIONS  method_POST  method_PUT  log-type_('request',)  \\\n",
       "0           1               0            0           0                      1   \n",
       "1           0               0            1           0                      0   \n",
       "2           1               0            0           0                      1   \n",
       "3           0               0            1           0                      0   \n",
       "4           0               0            1           0                      0   \n",
       "\n",
       "   log-type_('response',) responseCode_('200',)  responseCode_('300',)  \\\n",
       "0                       0                     0                      1   \n",
       "1                       1                     0                      0   \n",
       "2                       0                     1                      0   \n",
       "3                       1                     0                      0   \n",
       "4                       1                     0                      0   \n",
       "\n",
       "   responseCode_('400',)  responseCode_('500',)  \n",
       "0                      0                      0  \n",
       "1                      0                      1  \n",
       "2                      0                      0  \n",
       "3                      0                      1  \n",
       "4                      0                      1  \n",
       "\n",
       "[5 rows x 34 columns]"
      ]
     },
     "execution_count": 21,
     "metadata": {},
     "output_type": "execute_result"
    }
   ],
   "source": [
    "ce_baseN4 = ce.BaseNEncoder(cols=['clientIp'], base=7)\n",
    "encoded_data = ce_baseN4.fit_transform(data_OH)\n",
    "data_OH_encoded = pd.concat([data_OH, encoded_data], axis=1)  # Concatenate the encoded columns with the original DataFrame\n",
    "data_OH_encoded.head()"
   ]
  },
  {
   "cell_type": "code",
   "execution_count": 22,
   "metadata": {
    "execution": {
     "iopub.execute_input": "2023-08-05T06:30:20.796969Z",
     "iopub.status.busy": "2023-08-05T06:30:20.796635Z",
     "iopub.status.idle": "2023-08-05T06:30:22.312035Z",
     "shell.execute_reply": "2023-08-05T06:30:22.310466Z",
     "shell.execute_reply.started": "2023-08-05T06:30:20.796940Z"
    },
    "id": "Dy_8u0mz0MaM",
    "outputId": "c271ded9-4484-4dca-9d18-563b36405dde"
   },
   "outputs": [
    {
     "name": "stdout",
     "output_type": "stream",
     "text": [
      "<class 'pandas.core.frame.DataFrame'>\n",
      "RangeIndex: 908659 entries, 0 to 908658\n",
      "Data columns (total 34 columns):\n",
      " #   Column                  Non-Null Count   Dtype  \n",
      "---  ------                  --------------   -----  \n",
      " 0   _id                     908659 non-null  object \n",
      " 1   _score                  908659 non-null  float64\n",
      " 2   clientIp                908659 non-null  object \n",
      " 3   responseTime            908659 non-null  object \n",
      " 4   Bandwidth_in_Mbps       908659 non-null  int64  \n",
      " 5   method_DELETE           908659 non-null  uint8  \n",
      " 6   method_GET              908659 non-null  uint8  \n",
      " 7   method_OPTIONS          908659 non-null  uint8  \n",
      " 8   method_POST             908659 non-null  uint8  \n",
      " 9   method_PUT              908659 non-null  uint8  \n",
      " 10  log-type_('request',)   908659 non-null  uint8  \n",
      " 11  log-type_('response',)  908659 non-null  uint8  \n",
      " 12  responseCode_('200',)   908659 non-null  uint8  \n",
      " 13  responseCode_('300',)   908659 non-null  uint8  \n",
      " 14  responseCode_('400',)   908659 non-null  uint8  \n",
      " 15  responseCode_('500',)   908659 non-null  uint8  \n",
      " 16  _id                     908659 non-null  object \n",
      " 17  _score                  908659 non-null  float64\n",
      " 18  clientIp_0              908659 non-null  int64  \n",
      " 19  clientIp_1              908659 non-null  int64  \n",
      " 20  clientIp_2              908659 non-null  int64  \n",
      " 21  responseTime            908659 non-null  object \n",
      " 22  Bandwidth_in_Mbps       908659 non-null  int64  \n",
      " 23  method_DELETE           908659 non-null  uint8  \n",
      " 24  method_GET              908659 non-null  uint8  \n",
      " 25  method_OPTIONS          908659 non-null  uint8  \n",
      " 26  method_POST             908659 non-null  uint8  \n",
      " 27  method_PUT              908659 non-null  uint8  \n",
      " 28  log-type_('request',)   908659 non-null  uint8  \n",
      " 29  log-type_('response',)  908659 non-null  uint8  \n",
      " 30  responseCode_('200',)   908659 non-null  uint8  \n",
      " 31  responseCode_('300',)   908659 non-null  uint8  \n",
      " 32  responseCode_('400',)   908659 non-null  uint8  \n",
      " 33  responseCode_('500',)   908659 non-null  uint8  \n",
      "dtypes: float64(2), int64(5), object(5), uint8(22)\n",
      "memory usage: 102.3+ MB\n"
     ]
    }
   ],
   "source": [
    "data_OH_encoded.info()"
   ]
  },
  {
   "cell_type": "code",
   "execution_count": 23,
   "metadata": {
    "execution": {
     "iopub.execute_input": "2023-08-05T06:30:22.313522Z",
     "iopub.status.busy": "2023-08-05T06:30:22.313180Z",
     "iopub.status.idle": "2023-08-05T06:30:22.577502Z",
     "shell.execute_reply": "2023-08-05T06:30:22.576365Z",
     "shell.execute_reply.started": "2023-08-05T06:30:22.313494Z"
    },
    "id": "txrrrqj80dQj"
   },
   "outputs": [],
   "source": [
    "data_OH_encoded = data_OH_encoded.loc[:, ~data_OH_encoded.columns.duplicated()]"
   ]
  },
  {
   "cell_type": "code",
   "execution_count": 24,
   "metadata": {
    "execution": {
     "iopub.execute_input": "2023-08-05T06:30:22.579286Z",
     "iopub.status.busy": "2023-08-05T06:30:22.578946Z",
     "iopub.status.idle": "2023-08-05T06:30:22.600579Z",
     "shell.execute_reply": "2023-08-05T06:30:22.599299Z",
     "shell.execute_reply.started": "2023-08-05T06:30:22.579257Z"
    },
    "id": "0XM7F-h80kJm",
    "outputId": "46da4668-abc0-41c0-ffc4-992000bf5390"
   },
   "outputs": [
    {
     "data": {
      "text/html": [
       "<div>\n",
       "<style scoped>\n",
       "    .dataframe tbody tr th:only-of-type {\n",
       "        vertical-align: middle;\n",
       "    }\n",
       "\n",
       "    .dataframe tbody tr th {\n",
       "        vertical-align: top;\n",
       "    }\n",
       "\n",
       "    .dataframe thead th {\n",
       "        text-align: right;\n",
       "    }\n",
       "</style>\n",
       "<table border=\"1\" class=\"dataframe\">\n",
       "  <thead>\n",
       "    <tr style=\"text-align: right;\">\n",
       "      <th></th>\n",
       "      <th>_id</th>\n",
       "      <th>_score</th>\n",
       "      <th>clientIp</th>\n",
       "      <th>responseTime</th>\n",
       "      <th>Bandwidth_in_Mbps</th>\n",
       "      <th>method_DELETE</th>\n",
       "      <th>method_GET</th>\n",
       "      <th>method_OPTIONS</th>\n",
       "      <th>method_POST</th>\n",
       "      <th>method_PUT</th>\n",
       "      <th>log-type_('request',)</th>\n",
       "      <th>log-type_('response',)</th>\n",
       "      <th>responseCode_('200',)</th>\n",
       "      <th>responseCode_('300',)</th>\n",
       "      <th>responseCode_('400',)</th>\n",
       "      <th>responseCode_('500',)</th>\n",
       "      <th>clientIp_0</th>\n",
       "      <th>clientIp_1</th>\n",
       "      <th>clientIp_2</th>\n",
       "    </tr>\n",
       "  </thead>\n",
       "  <tbody>\n",
       "    <tr>\n",
       "      <th>0</th>\n",
       "      <td>ccbe5537365a</td>\n",
       "      <td>93.81</td>\n",
       "      <td>192.168.0.139</td>\n",
       "      <td>09:51:11</td>\n",
       "      <td>519</td>\n",
       "      <td>0</td>\n",
       "      <td>1</td>\n",
       "      <td>0</td>\n",
       "      <td>0</td>\n",
       "      <td>0</td>\n",
       "      <td>1</td>\n",
       "      <td>0</td>\n",
       "      <td>0</td>\n",
       "      <td>1</td>\n",
       "      <td>0</td>\n",
       "      <td>0</td>\n",
       "      <td>0</td>\n",
       "      <td>0</td>\n",
       "      <td>1</td>\n",
       "    </tr>\n",
       "    <tr>\n",
       "      <th>1</th>\n",
       "      <td>2d8e9958f7ed</td>\n",
       "      <td>98.96</td>\n",
       "      <td>192.168.0.138</td>\n",
       "      <td>16:48:07</td>\n",
       "      <td>829</td>\n",
       "      <td>0</td>\n",
       "      <td>0</td>\n",
       "      <td>0</td>\n",
       "      <td>1</td>\n",
       "      <td>0</td>\n",
       "      <td>0</td>\n",
       "      <td>1</td>\n",
       "      <td>0</td>\n",
       "      <td>0</td>\n",
       "      <td>0</td>\n",
       "      <td>1</td>\n",
       "      <td>0</td>\n",
       "      <td>0</td>\n",
       "      <td>2</td>\n",
       "    </tr>\n",
       "    <tr>\n",
       "      <th>2</th>\n",
       "      <td>c283e0c0fcc2</td>\n",
       "      <td>24.28</td>\n",
       "      <td>192.168.0.138</td>\n",
       "      <td>05:16:23</td>\n",
       "      <td>769</td>\n",
       "      <td>0</td>\n",
       "      <td>1</td>\n",
       "      <td>0</td>\n",
       "      <td>0</td>\n",
       "      <td>0</td>\n",
       "      <td>1</td>\n",
       "      <td>0</td>\n",
       "      <td>1</td>\n",
       "      <td>0</td>\n",
       "      <td>0</td>\n",
       "      <td>0</td>\n",
       "      <td>0</td>\n",
       "      <td>0</td>\n",
       "      <td>2</td>\n",
       "    </tr>\n",
       "    <tr>\n",
       "      <th>3</th>\n",
       "      <td>fbce06eaee7c</td>\n",
       "      <td>28.57</td>\n",
       "      <td>192.168.0.167</td>\n",
       "      <td>08:37:32</td>\n",
       "      <td>733</td>\n",
       "      <td>0</td>\n",
       "      <td>0</td>\n",
       "      <td>0</td>\n",
       "      <td>1</td>\n",
       "      <td>0</td>\n",
       "      <td>0</td>\n",
       "      <td>1</td>\n",
       "      <td>0</td>\n",
       "      <td>0</td>\n",
       "      <td>0</td>\n",
       "      <td>1</td>\n",
       "      <td>0</td>\n",
       "      <td>0</td>\n",
       "      <td>3</td>\n",
       "    </tr>\n",
       "    <tr>\n",
       "      <th>4</th>\n",
       "      <td>46b8193fdeb9</td>\n",
       "      <td>78.04</td>\n",
       "      <td>192.168.0.26</td>\n",
       "      <td>07:41:37</td>\n",
       "      <td>901</td>\n",
       "      <td>0</td>\n",
       "      <td>0</td>\n",
       "      <td>0</td>\n",
       "      <td>1</td>\n",
       "      <td>0</td>\n",
       "      <td>0</td>\n",
       "      <td>1</td>\n",
       "      <td>0</td>\n",
       "      <td>0</td>\n",
       "      <td>0</td>\n",
       "      <td>1</td>\n",
       "      <td>0</td>\n",
       "      <td>0</td>\n",
       "      <td>4</td>\n",
       "    </tr>\n",
       "  </tbody>\n",
       "</table>\n",
       "</div>"
      ],
      "text/plain": [
       "            _id  _score       clientIp responseTime  Bandwidth_in_Mbps  \\\n",
       "0  ccbe5537365a   93.81  192.168.0.139     09:51:11                519   \n",
       "1  2d8e9958f7ed   98.96  192.168.0.138     16:48:07                829   \n",
       "2  c283e0c0fcc2   24.28  192.168.0.138     05:16:23                769   \n",
       "3  fbce06eaee7c   28.57  192.168.0.167     08:37:32                733   \n",
       "4  46b8193fdeb9   78.04   192.168.0.26     07:41:37                901   \n",
       "\n",
       "   method_DELETE  method_GET  method_OPTIONS  method_POST  method_PUT  \\\n",
       "0              0           1               0            0           0   \n",
       "1              0           0               0            1           0   \n",
       "2              0           1               0            0           0   \n",
       "3              0           0               0            1           0   \n",
       "4              0           0               0            1           0   \n",
       "\n",
       "   log-type_('request',)  log-type_('response',)  responseCode_('200',)  \\\n",
       "0                      1                       0                      0   \n",
       "1                      0                       1                      0   \n",
       "2                      1                       0                      1   \n",
       "3                      0                       1                      0   \n",
       "4                      0                       1                      0   \n",
       "\n",
       "   responseCode_('300',)  responseCode_('400',)  responseCode_('500',)  \\\n",
       "0                      1                      0                      0   \n",
       "1                      0                      0                      1   \n",
       "2                      0                      0                      0   \n",
       "3                      0                      0                      1   \n",
       "4                      0                      0                      1   \n",
       "\n",
       "   clientIp_0  clientIp_1  clientIp_2  \n",
       "0           0           0           1  \n",
       "1           0           0           2  \n",
       "2           0           0           2  \n",
       "3           0           0           3  \n",
       "4           0           0           4  "
      ]
     },
     "execution_count": 24,
     "metadata": {},
     "output_type": "execute_result"
    }
   ],
   "source": [
    "data_OH_encoded.head()"
   ]
  },
  {
   "cell_type": "code",
   "execution_count": 25,
   "metadata": {
    "execution": {
     "iopub.execute_input": "2023-08-05T06:30:22.602584Z",
     "iopub.status.busy": "2023-08-05T06:30:22.602123Z",
     "iopub.status.idle": "2023-08-05T06:30:22.654186Z",
     "shell.execute_reply": "2023-08-05T06:30:22.652651Z",
     "shell.execute_reply.started": "2023-08-05T06:30:22.602542Z"
    },
    "id": "09a395lH0qTX"
   },
   "outputs": [],
   "source": [
    "data_encoded = data_OH_encoded.copy()"
   ]
  },
  {
   "cell_type": "markdown",
   "metadata": {
    "id": "Z63EBteAOpcQ"
   },
   "source": [
    "# K means clustering"
   ]
  },
  {
   "cell_type": "code",
   "execution_count": 26,
   "metadata": {
    "execution": {
     "iopub.execute_input": "2023-08-05T06:30:22.657101Z",
     "iopub.status.busy": "2023-08-05T06:30:22.656188Z",
     "iopub.status.idle": "2023-08-05T06:30:22.731671Z",
     "shell.execute_reply": "2023-08-05T06:30:22.730594Z",
     "shell.execute_reply.started": "2023-08-05T06:30:22.657053Z"
    }
   },
   "outputs": [],
   "source": [
    "data_K = data_encoded.copy()"
   ]
  },
  {
   "cell_type": "code",
   "execution_count": 27,
   "metadata": {
    "execution": {
     "iopub.execute_input": "2023-08-05T06:30:22.734604Z",
     "iopub.status.busy": "2023-08-05T06:30:22.733165Z",
     "iopub.status.idle": "2023-08-05T06:30:22.759846Z",
     "shell.execute_reply": "2023-08-05T06:30:22.758658Z",
     "shell.execute_reply.started": "2023-08-05T06:30:22.734556Z"
    }
   },
   "outputs": [
    {
     "data": {
      "text/html": [
       "<div>\n",
       "<style scoped>\n",
       "    .dataframe tbody tr th:only-of-type {\n",
       "        vertical-align: middle;\n",
       "    }\n",
       "\n",
       "    .dataframe tbody tr th {\n",
       "        vertical-align: top;\n",
       "    }\n",
       "\n",
       "    .dataframe thead th {\n",
       "        text-align: right;\n",
       "    }\n",
       "</style>\n",
       "<table border=\"1\" class=\"dataframe\">\n",
       "  <thead>\n",
       "    <tr style=\"text-align: right;\">\n",
       "      <th></th>\n",
       "      <th>_id</th>\n",
       "      <th>_score</th>\n",
       "      <th>clientIp</th>\n",
       "      <th>responseTime</th>\n",
       "      <th>Bandwidth_in_Mbps</th>\n",
       "      <th>method_DELETE</th>\n",
       "      <th>method_GET</th>\n",
       "      <th>method_OPTIONS</th>\n",
       "      <th>method_POST</th>\n",
       "      <th>method_PUT</th>\n",
       "      <th>log-type_('request',)</th>\n",
       "      <th>log-type_('response',)</th>\n",
       "      <th>responseCode_('200',)</th>\n",
       "      <th>responseCode_('300',)</th>\n",
       "      <th>responseCode_('400',)</th>\n",
       "      <th>responseCode_('500',)</th>\n",
       "      <th>clientIp_0</th>\n",
       "      <th>clientIp_1</th>\n",
       "      <th>clientIp_2</th>\n",
       "    </tr>\n",
       "  </thead>\n",
       "  <tbody>\n",
       "    <tr>\n",
       "      <th>0</th>\n",
       "      <td>ccbe5537365a</td>\n",
       "      <td>93.81</td>\n",
       "      <td>192.168.0.139</td>\n",
       "      <td>09:51:11</td>\n",
       "      <td>519</td>\n",
       "      <td>0</td>\n",
       "      <td>1</td>\n",
       "      <td>0</td>\n",
       "      <td>0</td>\n",
       "      <td>0</td>\n",
       "      <td>1</td>\n",
       "      <td>0</td>\n",
       "      <td>0</td>\n",
       "      <td>1</td>\n",
       "      <td>0</td>\n",
       "      <td>0</td>\n",
       "      <td>0</td>\n",
       "      <td>0</td>\n",
       "      <td>1</td>\n",
       "    </tr>\n",
       "    <tr>\n",
       "      <th>1</th>\n",
       "      <td>2d8e9958f7ed</td>\n",
       "      <td>98.96</td>\n",
       "      <td>192.168.0.138</td>\n",
       "      <td>16:48:07</td>\n",
       "      <td>829</td>\n",
       "      <td>0</td>\n",
       "      <td>0</td>\n",
       "      <td>0</td>\n",
       "      <td>1</td>\n",
       "      <td>0</td>\n",
       "      <td>0</td>\n",
       "      <td>1</td>\n",
       "      <td>0</td>\n",
       "      <td>0</td>\n",
       "      <td>0</td>\n",
       "      <td>1</td>\n",
       "      <td>0</td>\n",
       "      <td>0</td>\n",
       "      <td>2</td>\n",
       "    </tr>\n",
       "    <tr>\n",
       "      <th>2</th>\n",
       "      <td>c283e0c0fcc2</td>\n",
       "      <td>24.28</td>\n",
       "      <td>192.168.0.138</td>\n",
       "      <td>05:16:23</td>\n",
       "      <td>769</td>\n",
       "      <td>0</td>\n",
       "      <td>1</td>\n",
       "      <td>0</td>\n",
       "      <td>0</td>\n",
       "      <td>0</td>\n",
       "      <td>1</td>\n",
       "      <td>0</td>\n",
       "      <td>1</td>\n",
       "      <td>0</td>\n",
       "      <td>0</td>\n",
       "      <td>0</td>\n",
       "      <td>0</td>\n",
       "      <td>0</td>\n",
       "      <td>2</td>\n",
       "    </tr>\n",
       "    <tr>\n",
       "      <th>3</th>\n",
       "      <td>fbce06eaee7c</td>\n",
       "      <td>28.57</td>\n",
       "      <td>192.168.0.167</td>\n",
       "      <td>08:37:32</td>\n",
       "      <td>733</td>\n",
       "      <td>0</td>\n",
       "      <td>0</td>\n",
       "      <td>0</td>\n",
       "      <td>1</td>\n",
       "      <td>0</td>\n",
       "      <td>0</td>\n",
       "      <td>1</td>\n",
       "      <td>0</td>\n",
       "      <td>0</td>\n",
       "      <td>0</td>\n",
       "      <td>1</td>\n",
       "      <td>0</td>\n",
       "      <td>0</td>\n",
       "      <td>3</td>\n",
       "    </tr>\n",
       "    <tr>\n",
       "      <th>4</th>\n",
       "      <td>46b8193fdeb9</td>\n",
       "      <td>78.04</td>\n",
       "      <td>192.168.0.26</td>\n",
       "      <td>07:41:37</td>\n",
       "      <td>901</td>\n",
       "      <td>0</td>\n",
       "      <td>0</td>\n",
       "      <td>0</td>\n",
       "      <td>1</td>\n",
       "      <td>0</td>\n",
       "      <td>0</td>\n",
       "      <td>1</td>\n",
       "      <td>0</td>\n",
       "      <td>0</td>\n",
       "      <td>0</td>\n",
       "      <td>1</td>\n",
       "      <td>0</td>\n",
       "      <td>0</td>\n",
       "      <td>4</td>\n",
       "    </tr>\n",
       "  </tbody>\n",
       "</table>\n",
       "</div>"
      ],
      "text/plain": [
       "            _id  _score       clientIp responseTime  Bandwidth_in_Mbps  \\\n",
       "0  ccbe5537365a   93.81  192.168.0.139     09:51:11                519   \n",
       "1  2d8e9958f7ed   98.96  192.168.0.138     16:48:07                829   \n",
       "2  c283e0c0fcc2   24.28  192.168.0.138     05:16:23                769   \n",
       "3  fbce06eaee7c   28.57  192.168.0.167     08:37:32                733   \n",
       "4  46b8193fdeb9   78.04   192.168.0.26     07:41:37                901   \n",
       "\n",
       "   method_DELETE  method_GET  method_OPTIONS  method_POST  method_PUT  \\\n",
       "0              0           1               0            0           0   \n",
       "1              0           0               0            1           0   \n",
       "2              0           1               0            0           0   \n",
       "3              0           0               0            1           0   \n",
       "4              0           0               0            1           0   \n",
       "\n",
       "   log-type_('request',)  log-type_('response',)  responseCode_('200',)  \\\n",
       "0                      1                       0                      0   \n",
       "1                      0                       1                      0   \n",
       "2                      1                       0                      1   \n",
       "3                      0                       1                      0   \n",
       "4                      0                       1                      0   \n",
       "\n",
       "   responseCode_('300',)  responseCode_('400',)  responseCode_('500',)  \\\n",
       "0                      1                      0                      0   \n",
       "1                      0                      0                      1   \n",
       "2                      0                      0                      0   \n",
       "3                      0                      0                      1   \n",
       "4                      0                      0                      1   \n",
       "\n",
       "   clientIp_0  clientIp_1  clientIp_2  \n",
       "0           0           0           1  \n",
       "1           0           0           2  \n",
       "2           0           0           2  \n",
       "3           0           0           3  \n",
       "4           0           0           4  "
      ]
     },
     "execution_count": 27,
     "metadata": {},
     "output_type": "execute_result"
    }
   ],
   "source": [
    "data_K.head()"
   ]
  },
  {
   "cell_type": "code",
   "execution_count": 28,
   "metadata": {
    "execution": {
     "iopub.execute_input": "2023-08-05T06:30:22.761836Z",
     "iopub.status.busy": "2023-08-05T06:30:22.761472Z",
     "iopub.status.idle": "2023-08-05T06:30:22.898669Z",
     "shell.execute_reply": "2023-08-05T06:30:22.897807Z",
     "shell.execute_reply.started": "2023-08-05T06:30:22.761803Z"
    }
   },
   "outputs": [],
   "source": [
    "data_K = data_K.drop(['_id'],axis = 1)\n",
    "data_K = data_K.drop(['responseTime'],axis = 1)\n",
    "data_K = data_K.drop(['clientIp'],axis = 1)"
   ]
  },
  {
   "cell_type": "code",
   "execution_count": 29,
   "metadata": {
    "execution": {
     "iopub.execute_input": "2023-08-05T06:30:22.900773Z",
     "iopub.status.busy": "2023-08-05T06:30:22.899803Z",
     "iopub.status.idle": "2023-08-05T06:30:22.918222Z",
     "shell.execute_reply": "2023-08-05T06:30:22.917245Z",
     "shell.execute_reply.started": "2023-08-05T06:30:22.900735Z"
    }
   },
   "outputs": [
    {
     "data": {
      "text/html": [
       "<div>\n",
       "<style scoped>\n",
       "    .dataframe tbody tr th:only-of-type {\n",
       "        vertical-align: middle;\n",
       "    }\n",
       "\n",
       "    .dataframe tbody tr th {\n",
       "        vertical-align: top;\n",
       "    }\n",
       "\n",
       "    .dataframe thead th {\n",
       "        text-align: right;\n",
       "    }\n",
       "</style>\n",
       "<table border=\"1\" class=\"dataframe\">\n",
       "  <thead>\n",
       "    <tr style=\"text-align: right;\">\n",
       "      <th></th>\n",
       "      <th>_score</th>\n",
       "      <th>Bandwidth_in_Mbps</th>\n",
       "      <th>method_DELETE</th>\n",
       "      <th>method_GET</th>\n",
       "      <th>method_OPTIONS</th>\n",
       "      <th>method_POST</th>\n",
       "      <th>method_PUT</th>\n",
       "      <th>log-type_('request',)</th>\n",
       "      <th>log-type_('response',)</th>\n",
       "      <th>responseCode_('200',)</th>\n",
       "      <th>responseCode_('300',)</th>\n",
       "      <th>responseCode_('400',)</th>\n",
       "      <th>responseCode_('500',)</th>\n",
       "      <th>clientIp_0</th>\n",
       "      <th>clientIp_1</th>\n",
       "      <th>clientIp_2</th>\n",
       "    </tr>\n",
       "  </thead>\n",
       "  <tbody>\n",
       "    <tr>\n",
       "      <th>0</th>\n",
       "      <td>93.81</td>\n",
       "      <td>519</td>\n",
       "      <td>0</td>\n",
       "      <td>1</td>\n",
       "      <td>0</td>\n",
       "      <td>0</td>\n",
       "      <td>0</td>\n",
       "      <td>1</td>\n",
       "      <td>0</td>\n",
       "      <td>0</td>\n",
       "      <td>1</td>\n",
       "      <td>0</td>\n",
       "      <td>0</td>\n",
       "      <td>0</td>\n",
       "      <td>0</td>\n",
       "      <td>1</td>\n",
       "    </tr>\n",
       "    <tr>\n",
       "      <th>1</th>\n",
       "      <td>98.96</td>\n",
       "      <td>829</td>\n",
       "      <td>0</td>\n",
       "      <td>0</td>\n",
       "      <td>0</td>\n",
       "      <td>1</td>\n",
       "      <td>0</td>\n",
       "      <td>0</td>\n",
       "      <td>1</td>\n",
       "      <td>0</td>\n",
       "      <td>0</td>\n",
       "      <td>0</td>\n",
       "      <td>1</td>\n",
       "      <td>0</td>\n",
       "      <td>0</td>\n",
       "      <td>2</td>\n",
       "    </tr>\n",
       "    <tr>\n",
       "      <th>2</th>\n",
       "      <td>24.28</td>\n",
       "      <td>769</td>\n",
       "      <td>0</td>\n",
       "      <td>1</td>\n",
       "      <td>0</td>\n",
       "      <td>0</td>\n",
       "      <td>0</td>\n",
       "      <td>1</td>\n",
       "      <td>0</td>\n",
       "      <td>1</td>\n",
       "      <td>0</td>\n",
       "      <td>0</td>\n",
       "      <td>0</td>\n",
       "      <td>0</td>\n",
       "      <td>0</td>\n",
       "      <td>2</td>\n",
       "    </tr>\n",
       "    <tr>\n",
       "      <th>3</th>\n",
       "      <td>28.57</td>\n",
       "      <td>733</td>\n",
       "      <td>0</td>\n",
       "      <td>0</td>\n",
       "      <td>0</td>\n",
       "      <td>1</td>\n",
       "      <td>0</td>\n",
       "      <td>0</td>\n",
       "      <td>1</td>\n",
       "      <td>0</td>\n",
       "      <td>0</td>\n",
       "      <td>0</td>\n",
       "      <td>1</td>\n",
       "      <td>0</td>\n",
       "      <td>0</td>\n",
       "      <td>3</td>\n",
       "    </tr>\n",
       "    <tr>\n",
       "      <th>4</th>\n",
       "      <td>78.04</td>\n",
       "      <td>901</td>\n",
       "      <td>0</td>\n",
       "      <td>0</td>\n",
       "      <td>0</td>\n",
       "      <td>1</td>\n",
       "      <td>0</td>\n",
       "      <td>0</td>\n",
       "      <td>1</td>\n",
       "      <td>0</td>\n",
       "      <td>0</td>\n",
       "      <td>0</td>\n",
       "      <td>1</td>\n",
       "      <td>0</td>\n",
       "      <td>0</td>\n",
       "      <td>4</td>\n",
       "    </tr>\n",
       "  </tbody>\n",
       "</table>\n",
       "</div>"
      ],
      "text/plain": [
       "   _score  Bandwidth_in_Mbps  method_DELETE  method_GET  method_OPTIONS  \\\n",
       "0   93.81                519              0           1               0   \n",
       "1   98.96                829              0           0               0   \n",
       "2   24.28                769              0           1               0   \n",
       "3   28.57                733              0           0               0   \n",
       "4   78.04                901              0           0               0   \n",
       "\n",
       "   method_POST  method_PUT  log-type_('request',)  log-type_('response',)  \\\n",
       "0            0           0                      1                       0   \n",
       "1            1           0                      0                       1   \n",
       "2            0           0                      1                       0   \n",
       "3            1           0                      0                       1   \n",
       "4            1           0                      0                       1   \n",
       "\n",
       "   responseCode_('200',)  responseCode_('300',)  responseCode_('400',)  \\\n",
       "0                      0                      1                      0   \n",
       "1                      0                      0                      0   \n",
       "2                      1                      0                      0   \n",
       "3                      0                      0                      0   \n",
       "4                      0                      0                      0   \n",
       "\n",
       "   responseCode_('500',)  clientIp_0  clientIp_1  clientIp_2  \n",
       "0                      0           0           0           1  \n",
       "1                      1           0           0           2  \n",
       "2                      0           0           0           2  \n",
       "3                      1           0           0           3  \n",
       "4                      1           0           0           4  "
      ]
     },
     "execution_count": 29,
     "metadata": {},
     "output_type": "execute_result"
    }
   ],
   "source": [
    "data_K.head()"
   ]
  },
  {
   "cell_type": "code",
   "execution_count": 30,
   "metadata": {
    "execution": {
     "iopub.execute_input": "2023-08-05T06:30:22.920406Z",
     "iopub.status.busy": "2023-08-05T06:30:22.919476Z",
     "iopub.status.idle": "2023-08-05T06:30:22.934119Z",
     "shell.execute_reply": "2023-08-05T06:30:22.932396Z",
     "shell.execute_reply.started": "2023-08-05T06:30:22.920372Z"
    }
   },
   "outputs": [],
   "source": [
    "#1\n",
    "import pandas as pd\n",
    "import numpy as np\n",
    "import random as rd\n",
    "import matplotlib.pyplot as plt"
   ]
  },
  {
   "cell_type": "code",
   "execution_count": 31,
   "metadata": {
    "execution": {
     "iopub.execute_input": "2023-08-05T06:30:22.936658Z",
     "iopub.status.busy": "2023-08-05T06:30:22.936238Z",
     "iopub.status.idle": "2023-08-05T06:30:25.021102Z",
     "shell.execute_reply": "2023-08-05T06:30:25.020031Z",
     "shell.execute_reply.started": "2023-08-05T06:30:22.936625Z"
    }
   },
   "outputs": [
    {
     "data": {
      "image/png": "[encoded data removed]",
      "text/plain": [
       "<Figure size 432x288 with 1 Axes>"
      ]
     },
     "metadata": {
      "needs_background": "light"
     },
     "output_type": "display_data"
    }
   ],
   "source": [
    "X = data_K[[\"_score\",\"Bandwidth_in_Mbps\"]]\n",
    "plt.scatter(X[\"Bandwidth_in_Mbps\"],X[\"_score\"],c='black') #Visualise data points\n",
    "plt.xlabel('Bandwidth_in_Mbps')\n",
    "plt.ylabel('_score')\n",
    "plt.show()"
   ]
  },
  {
   "cell_type": "code",
   "execution_count": 32,
   "metadata": {
    "execution": {
     "iopub.execute_input": "2023-08-05T06:30:25.022856Z",
     "iopub.status.busy": "2023-08-05T06:30:25.022492Z",
     "iopub.status.idle": "2023-08-05T06:30:27.157131Z",
     "shell.execute_reply": "2023-08-05T06:30:27.155604Z",
     "shell.execute_reply.started": "2023-08-05T06:30:25.022824Z"
    }
   },
   "outputs": [
    {
     "data": {
      "image/png": "[encoded data removed]",
      "text/plain": [
       "<Figure size 432x288 with 1 Axes>"
      ]
     },
     "metadata": {
      "needs_background": "light"
     },
     "output_type": "display_data"
    }
   ],
   "source": [
    "K=2\n",
    "Centroids = (X.sample(n=K)) # Select random observation as centroids\n",
    "plt.scatter(X[\"Bandwidth_in_Mbps\"],X[\"_score\"],c='black')\n",
    "plt.scatter(Centroids[\"Bandwidth_in_Mbps\"],Centroids[\"_score\"],c='red')\n",
    "plt.xlabel('BMbps')\n",
    "plt.ylabel('_score')\n",
    "plt.show()"
   ]
  },
  {
   "cell_type": "code",
   "execution_count": 33,
   "metadata": {
    "execution": {
     "iopub.execute_input": "2023-08-05T06:30:27.158915Z",
     "iopub.status.busy": "2023-08-05T06:30:27.158543Z",
     "iopub.status.idle": "2023-08-05T06:30:30.492640Z",
     "shell.execute_reply": "2023-08-05T06:30:30.491366Z",
     "shell.execute_reply.started": "2023-08-05T06:30:27.158880Z"
    }
   },
   "outputs": [
    {
     "name": "stdout",
     "output_type": "stream",
     "text": [
      "     _score  Bandwidth_in_Mbps  method_DELETE  method_GET  method_OPTIONS  \\\n",
      "0  8.719423           7.813649      -3.768268    8.898576      -10.362155   \n",
      "1  8.163564           6.968769      -3.888607    7.957375       -8.325380   \n",
      "2  7.883127           7.439474      -6.061408    8.248116       -8.964506   \n",
      "3  7.616453           9.535807      -7.400554    7.071474       -7.835758   \n",
      "4  7.460179           7.335572      -6.376319    8.592145       -8.572416   \n",
      "\n",
      "   method_POST  method_PUT  log-type_('request',)  log-type_('response',)  \\\n",
      "0     8.659754    5.285346               0.841110               -2.754308   \n",
      "1     9.020485    6.076721               1.089892               -1.595561   \n",
      "2     9.459721    6.767561               0.004474               -1.932082   \n",
      "3    10.145606    4.993965               0.715698               -0.290421   \n",
      "4     8.610490    5.727115               2.907201               -1.763593   \n",
      "\n",
      "   responseCode_('200',)  responseCode_('300',)  responseCode_('400',)  \\\n",
      "0               0.261656              -9.372703               2.673095   \n",
      "1               0.170591              -8.189329               4.086570   \n",
      "2               1.317440              -8.322273               4.864023   \n",
      "3               1.104435              -8.401836               2.494360   \n",
      "4               0.971053              -8.907141               3.636216   \n",
      "\n",
      "   responseCode_('500',)  clientIp_0  clientIp_1  clientIp_2  Cluster  \n",
      "0               1.505626   -1.904028    6.417274   10.682104        0  \n",
      "1               1.638555   -5.058483    8.788142    8.402714        0  \n",
      "2               3.111126   -5.077563    8.390710    7.647322        0  \n",
      "3               1.978989   -6.133758    7.849841    9.255732        0  \n",
      "4               3.068740   -3.618713    7.734249   11.326467        0  \n"
     ]
    }
   ],
   "source": [
    "#2\n",
    "import pandas as pd\n",
    "from sklearn.datasets import make_blobs\n",
    "from sklearn.cluster import KMeans\n",
    "\n",
    "X, _ = make_blobs(n_samples=908659, centers=2, n_features=16)\n",
    "\n",
    "data_K = pd.DataFrame(X, columns=['_score', 'Bandwidth_in_Mbps', 'method_DELETE', 'method_GET', 'method_OPTIONS', 'method_POST', 'method_PUT', 'log-type_(\\'request\\',)', 'log-type_(\\'response\\',)', 'responseCode_(\\'200\\',)', 'responseCode_(\\'300\\',)', 'responseCode_(\\'400\\',)', 'responseCode_(\\'500\\',)', 'clientIp_0', 'clientIp_1', 'clientIp_2']\n",
    ")\n",
    "\n",
    "kmeans = KMeans(n_clusters=2)\n",
    "\n",
    "y = kmeans.fit_predict(data_K[['_score', 'Bandwidth_in_Mbps', 'method_DELETE', 'method_GET', 'method_OPTIONS', 'method_POST', 'method_PUT', 'log-type_(\\'request\\',)', 'log-type_(\\'response\\',)', 'responseCode_(\\'200\\',)', 'responseCode_(\\'300\\',)', 'responseCode_(\\'400\\',)', 'responseCode_(\\'500\\',)', 'clientIp_0', 'clientIp_1', 'clientIp_2']\n",
    "])\n",
    "\n",
    "data_K['Cluster'] = y\n",
    "\n",
    "print(data_K.head())"
   ]
  },
  {
   "cell_type": "code",
   "execution_count": 34,
   "metadata": {
    "execution": {
     "iopub.execute_input": "2023-08-05T06:30:30.495006Z",
     "iopub.status.busy": "2023-08-05T06:30:30.494611Z",
     "iopub.status.idle": "2023-08-05T06:30:30.509605Z",
     "shell.execute_reply": "2023-08-05T06:30:30.508087Z",
     "shell.execute_reply.started": "2023-08-05T06:30:30.494972Z"
    }
   },
   "outputs": [
    {
     "name": "stdout",
     "output_type": "stream",
     "text": [
      "0    454330\n",
      "1    454329\n",
      "Name: Cluster, dtype: int64\n"
     ]
    }
   ],
   "source": [
    "cluster_counts = data_K['Cluster'].value_counts()\n",
    "print(cluster_counts)"
   ]
  },
  {
   "cell_type": "markdown",
   "metadata": {},
   "source": [
    "# Mini Batch K Means"
   ]
  },
  {
   "cell_type": "code",
   "execution_count": 35,
   "metadata": {
    "execution": {
     "iopub.execute_input": "2023-08-05T06:30:30.511442Z",
     "iopub.status.busy": "2023-08-05T06:30:30.511070Z",
     "iopub.status.idle": "2023-08-05T06:30:30.573131Z",
     "shell.execute_reply": "2023-08-05T06:30:30.571906Z",
     "shell.execute_reply.started": "2023-08-05T06:30:30.511407Z"
    }
   },
   "outputs": [],
   "source": [
    "data_MK = data_encoded.copy()"
   ]
  },
  {
   "cell_type": "code",
   "execution_count": 36,
   "metadata": {
    "execution": {
     "iopub.execute_input": "2023-08-05T06:30:30.575576Z",
     "iopub.status.busy": "2023-08-05T06:30:30.575179Z",
     "iopub.status.idle": "2023-08-05T06:30:32.237859Z",
     "shell.execute_reply": "2023-08-05T06:30:32.236893Z",
     "shell.execute_reply.started": "2023-08-05T06:30:30.575543Z"
    }
   },
   "outputs": [
    {
     "name": "stderr",
     "output_type": "stream",
     "text": [
      "C:\\Users\\sneha\\anaconda3\\lib\\site-packages\\sklearn\\cluster\\_kmeans.py:1043: UserWarning: MiniBatchKMeans is known to have a memory leak on Windows with MKL, when there are less chunks than available threads. You can prevent it by setting batch_size >= 3072 or by setting the environment variable OMP_NUM_THREADS=1\n",
      "  warnings.warn(\n"
     ]
    },
    {
     "name": "stdout",
     "output_type": "stream",
     "text": [
      "      _score  Bandwidth_in_Mbps  method_DELETE  method_GET  method_OPTIONS  \\\n",
      "0  -6.911615          -7.488955      -4.329597    7.247656        1.539154   \n",
      "1  -8.076385          -8.624821      -3.509287    5.320362        0.942827   \n",
      "2   7.346880           2.040646       9.142422    7.639105        6.448008   \n",
      "3 -10.099708          -8.053796      -5.120635    6.169824        3.365097   \n",
      "4   6.106700           2.562434      10.188685    7.431592        5.056531   \n",
      "\n",
      "   method_POST  method_PUT  log-type_('request',)  log-type_('response',)  \\\n",
      "0     2.878602   -4.896968              -0.512084               -6.918255   \n",
      "1     1.503113   -3.748165              -0.001487               -6.192018   \n",
      "2    10.092627    3.692962               6.369431               -2.362595   \n",
      "3     3.780481   -5.034418               0.067088               -8.528492   \n",
      "4    10.206739    5.904441               4.419030               -1.695380   \n",
      "\n",
      "   responseCode_('200',)  responseCode_('300',)  responseCode_('400',)  \\\n",
      "0              -9.831352              -2.710157              -6.515988   \n",
      "1              -9.488290              -2.994744              -6.478969   \n",
      "2               0.809902               6.949190               6.984272   \n",
      "3              -8.004604               0.034480              -7.318998   \n",
      "4              -1.507049               6.831643               4.379485   \n",
      "\n",
      "   responseCode_('500',)  clientIp_0  clientIp_1  clientIp_2  Cluster  \n",
      "0              -3.621168    2.234972    0.386225    6.110224        0  \n",
      "1              -5.657379    3.333579   -0.001961    5.084300        0  \n",
      "2              -2.599521    0.260848    5.830187   -3.580661        1  \n",
      "3              -2.774651    3.386297    0.453622    5.134965        0  \n",
      "4              -5.929152    0.564777    8.701091   -2.787315        1  \n"
     ]
    }
   ],
   "source": [
    "#1\n",
    "import pandas as pd\n",
    "from sklearn.datasets import make_blobs\n",
    "from sklearn.cluster import MiniBatchKMeans\n",
    "\n",
    "X, _ = make_blobs(n_samples=908659, centers=2, n_features=16)\n",
    "\n",
    "data_MK = pd.DataFrame(X, columns=['_score', 'Bandwidth_in_Mbps', 'method_DELETE', 'method_GET', 'method_OPTIONS', 'method_POST', 'method_PUT', 'log-type_(\\'request\\',)', 'log-type_(\\'response\\',)', 'responseCode_(\\'200\\',)', 'responseCode_(\\'300\\',)', 'responseCode_(\\'400\\',)', 'responseCode_(\\'500\\',)', 'clientIp_0', 'clientIp_1', 'clientIp_2'])\n",
    "\n",
    "kmeans = MiniBatchKMeans(n_clusters=2, batch_size=100, max_iter=1000)\n",
    "\n",
    "y = kmeans.fit_predict(data_MK[['_score', 'Bandwidth_in_Mbps', 'method_DELETE', 'method_GET', 'method_OPTIONS', 'method_POST', 'method_PUT', 'log-type_(\\'request\\',)', 'log-type_(\\'response\\',)', 'responseCode_(\\'200\\',)', 'responseCode_(\\'300\\',)', 'responseCode_(\\'400\\',)', 'responseCode_(\\'500\\',)', 'clientIp_0', 'clientIp_1', 'clientIp_2']])\n",
    "\n",
    "data_MK['Cluster'] = y\n",
    "\n",
    "print(data_MK.head())"
   ]
  },
  {
   "cell_type": "code",
   "execution_count": 37,
   "metadata": {
    "execution": {
     "iopub.execute_input": "2023-08-05T06:30:32.240225Z",
     "iopub.status.busy": "2023-08-05T06:30:32.239452Z",
     "iopub.status.idle": "2023-08-05T06:30:32.254886Z",
     "shell.execute_reply": "2023-08-05T06:30:32.253445Z",
     "shell.execute_reply.started": "2023-08-05T06:30:32.240169Z"
    }
   },
   "outputs": [
    {
     "name": "stdout",
     "output_type": "stream",
     "text": [
      "1    454330\n",
      "0    454329\n",
      "Name: Cluster, dtype: int64\n"
     ]
    }
   ],
   "source": [
    "count = data_MK['Cluster'].value_counts()\n",
    "print(count)"
   ]
  },
  {
   "cell_type": "markdown",
   "metadata": {},
   "source": [
    "# K - Medoids"
   ]
  },
  {
   "cell_type": "code",
   "execution_count": 41,
   "metadata": {
    "execution": {
     "iopub.execute_input": "2023-08-05T06:30:32.257303Z",
     "iopub.status.busy": "2023-08-05T06:30:32.256704Z",
     "iopub.status.idle": "2023-08-05T06:30:32.299915Z",
     "shell.execute_reply": "2023-08-05T06:30:32.298661Z",
     "shell.execute_reply.started": "2023-08-05T06:30:32.257258Z"
    }
   },
   "outputs": [],
   "source": [
    "data_KM = data_encoded.copy()"
   ]
  },
  {
   "cell_type": "code",
   "execution_count": null,
   "metadata": {},
   "outputs": [],
   "source": [
    "import pandas as pd\n",
    "from sklearn.datasets import make_blobs\n",
    "from pyclustering.cluster.kmedoids import kmedoids\n",
    "from pyclustering.utils import timedcall\n",
    "\n",
    "X, _ = make_blobs(n_samples=908659, centers=2, n_features=16)\n",
    "\n",
    "data_KM = pd.DataFrame(X, columns=['_score', 'Bandwidth_in_Mbps', 'method_DELETE', 'method_GET', 'method_OPTIONS', 'method_POST', 'method_PUT', 'log-type_(\\'request\\',)', 'log-type_(\\'response\\',)', 'responseCode_(\\'200\\',)', 'responseCode_(\\'300\\',)', 'responseCode_(\\'400\\',)', 'responseCode_(\\'500\\',)', 'clientIp_0', 'clientIp_1', 'clientIp_2'])\n",
    "\n",
    "n_clusters = 2\n",
    "batch_size = 1000\n",
    "max_iterations = 100\n",
    "\n",
    "# Initialize K-Medoids with random medoids\n",
    "medoid_indices = np.random.choice(len(data_KM), size=n_clusters, replace=False)\n",
    "initial_medoids = data_KM.iloc[medoid_indices][['_score', 'Bandwidth_in_Mbps', 'method_DELETE', 'method_GET', 'method_OPTIONS', 'method_POST', 'method_PUT', 'log-type_(\\'request\\',)', 'log-type_(\\'response\\',)', 'responseCode_(\\'200\\',)', 'responseCode_(\\'300\\',)', 'responseCode_(\\'400\\',)', 'responseCode_(\\'500\\',)', 'clientIp_0', 'clientIp_1', 'clientIp_2']].values\n",
    "\n",
    "# Convert DataFrame to numpy array\n",
    "data_KM_values = data_KM[['_score', 'Bandwidth_in_Mbps', 'method_DELETE', 'method_GET', 'method_OPTIONS', 'method_POST', 'method_PUT', 'log-type_(\\'request\\',)', 'log-type_(\\'response\\',)', 'responseCode_(\\'200\\',)', 'responseCode_(\\'300\\',)', 'responseCode_(\\'400\\',)', 'responseCode_(\\'500\\',)', 'clientIp_0', 'clientIp_1', 'clientIp_2']].values\n",
    "\n",
    "# Create K-Medoids instance\n",
    "kmedoids_instance = kmedoids(data_KM_values, initial_medoids, ccore=False)\n",
    "\n",
    "# Perform mini-batch K-Medoids clustering\n",
    "timed_call = timedcall(kmedoids_instance.process, amount=batch_size, iterations=max_iterations)\n",
    "y = kmedoids_instance.get_clusters()\n",
    "\n",
    "# Flatten the cluster results\n",
    "cluster_labels = np.zeros(len(data_KM_values), dtype=np.int32)\n",
    "for cluster_idx, data_indices in enumerate(y):\n",
    "    cluster_labels[data_indices] = cluster_idx\n",
    "\n",
    "data_KM['Cluster'] = cluster_labels\n",
    "\n",
    "print(data_KM.head())"
   ]
  },
  {
   "cell_type": "markdown",
   "metadata": {},
   "source": [
    "# Agglomerative Clustering"
   ]
  },
  {
   "cell_type": "code",
   "execution_count": 52,
   "metadata": {
    "execution": {
     "iopub.execute_input": "2023-08-05T06:30:46.067696Z",
     "iopub.status.busy": "2023-08-05T06:30:46.067354Z",
     "iopub.status.idle": "2023-08-05T06:30:46.207331Z",
     "shell.execute_reply": "2023-08-05T06:30:46.205784Z",
     "shell.execute_reply.started": "2023-08-05T06:30:46.067667Z"
    }
   },
   "outputs": [],
   "source": [
    "data_HC = data_encoded.copy()"
   ]
  },
  {
   "cell_type": "code",
   "execution_count": 53,
   "metadata": {
    "execution": {
     "iopub.execute_input": "2023-08-05T06:30:46.217607Z",
     "iopub.status.busy": "2023-08-05T06:30:46.217169Z",
     "iopub.status.idle": "2023-08-05T06:30:46.227454Z",
     "shell.execute_reply": "2023-08-05T06:30:46.225465Z",
     "shell.execute_reply.started": "2023-08-05T06:30:46.217572Z"
    }
   },
   "outputs": [
    {
     "name": "stdout",
     "output_type": "stream",
     "text": [
      "     _score  Bandwidth_in_Mbps  method_DELETE  method_GET  method_OPTIONS  \\\n",
      "0 -3.006980          -4.443145      -4.414251   -7.588095        0.058574   \n",
      "1 -2.038648          -3.756785      -5.799141   -8.691168        0.532238   \n",
      "2 -3.373432          -5.917250      -5.249429   -8.965262       -0.042775   \n",
      "3  3.781002          -9.264143      -6.788564   -9.693074        0.298097   \n",
      "4  3.591428          -7.047984      -6.443866   -9.699361        0.348448   \n",
      "\n",
      "   method_POST  method_PUT  log-type_('request',)  log-type_('response',)  \\\n",
      "0     4.006777   -4.377469              -2.967038               -8.551019   \n",
      "1     4.754254   -2.935868              -5.557445               -8.086489   \n",
      "2     6.396813   -4.180097              -3.303198               -6.419952   \n",
      "3     9.189009   -1.025430               8.424885               -6.463735   \n",
      "4    10.428640    1.633577               8.727580               -5.117742   \n",
      "\n",
      "   responseCode_('200',)  responseCode_('300',)  responseCode_('400',)  \\\n",
      "0               9.258434              -7.371820               8.257463   \n",
      "1               9.105528              -7.422322               9.154927   \n",
      "2               8.401474              -7.079946               7.185487   \n",
      "3               4.448293               5.642141              -0.582387   \n",
      "4               4.652658               5.056660              -1.937955   \n",
      "\n",
      "   responseCode_('500',)  clientIp_0  clientIp_1  clientIp_2  Cluster  \n",
      "0              -6.710710   -3.250318   -3.199425   -7.991117        1  \n",
      "1              -7.937900   -2.794597   -2.761016   -6.939056        1  \n",
      "2              -6.850333   -2.990591   -1.054699   -5.547298        1  \n",
      "3              -8.460947   10.367564    2.560752   -5.161750        0  \n",
      "4              -7.675140    9.028409    1.994234   -5.630098        0  \n"
     ]
    }
   ],
   "source": [
    "import pandas as pd\n",
    "from sklearn.datasets import make_blobs\n",
    "from sklearn.cluster import AgglomerativeClustering\n",
    "\n",
    "X, _ = make_blobs(n_samples=908659, centers=2, n_features=16)\n",
    "\n",
    "data_HC = pd.DataFrame(X, columns=['_score', 'Bandwidth_in_Mbps', 'method_DELETE', 'method_GET', 'method_OPTIONS', 'method_POST', 'method_PUT', 'log-type_(\\'request\\',)', 'log-type_(\\'response\\',)', 'responseCode_(\\'200\\',)', 'responseCode_(\\'300\\',)', 'responseCode_(\\'400\\',)', 'responseCode_(\\'500\\',)', 'clientIp_0', 'clientIp_1', 'clientIp_2'])\n",
    "\n",
    "# Choose the number of clusters (K)\n",
    "n_clusters = 2\n",
    "\n",
    "# Choose the linkage method\n",
    "linkage_method = 'single'  # You can choose 'single', 'complete', 'average', etc.\n",
    "\n",
    "# Perform agglomerative clustering\n",
    "agglomerative_model = AgglomerativeClustering(n_clusters=n_clusters, linkage=linkage_method)\n",
    "y = agglomerative_model.fit_predict(data_HC[['_score', 'Bandwidth_in_Mbps', 'method_DELETE', 'method_GET', 'method_OPTIONS', 'method_POST', 'method_PUT', 'log-type_(\\'request\\',)', 'log-type_(\\'response\\',)', 'responseCode_(\\'200\\',)', 'responseCode_(\\'300\\',)', 'responseCode_(\\'400\\',)', 'responseCode_(\\'500\\',)', 'clientIp_0', 'clientIp_1', 'clientIp_2']])\n",
    "\n",
    "data_HC['Cluster'] = y\n",
    "\n",
    "print(data_HC.head())"
   ]
  },
  {
   "cell_type": "code",
   "execution_count": 54,
   "metadata": {},
   "outputs": [
    {
     "name": "stdout",
     "output_type": "stream",
     "text": [
      "0    454330\n",
      "1    454329\n",
      "Name: Cluster, dtype: int64\n"
     ]
    }
   ],
   "source": [
    "count = data_HC['Cluster'].value_counts()\n",
    "print(count)"
   ]
  },
  {
   "cell_type": "markdown",
   "metadata": {},
   "source": [
    "# DBSCAN"
   ]
  },
  {
   "cell_type": "code",
   "execution_count": 55,
   "metadata": {},
   "outputs": [],
   "source": [
    "data_DB = data_encoded.copy()"
   ]
  },
  {
   "cell_type": "code",
   "execution_count": 56,
   "metadata": {
    "execution": {
     "iopub.execute_input": "2023-08-05T06:30:59.802520Z",
     "iopub.status.busy": "2023-08-05T06:30:59.802089Z"
    }
   },
   "outputs": [
    {
     "name": "stdout",
     "output_type": "stream",
     "text": [
      "     _score  Bandwidth_in_Mbps  method_DELETE  method_GET  method_OPTIONS  \\\n",
      "0 -5.269319          -8.029609       9.055623    1.450269       -7.327117   \n",
      "1  5.271440           0.477815      -7.770777   -0.642066        0.315861   \n",
      "2  4.231292           0.275315      -6.248905   -0.283498        1.857697   \n",
      "3  4.587272           0.853339      -5.176822   -0.979922        1.335037   \n",
      "4  5.693431           0.543959      -4.748261   -2.271403        2.912073   \n",
      "\n",
      "   method_POST  method_PUT  log-type_('request',)  log-type_('response',)  \\\n",
      "0    -6.154250   -8.812424               5.997558              -10.979342   \n",
      "1    -7.348396   -9.464851               0.410107               -1.861428   \n",
      "2    -7.486850   -8.901574               0.375095               -3.168142   \n",
      "3    -8.170847  -10.813793               1.553335               -1.850700   \n",
      "4    -8.795496   -9.233376               1.650946               -1.091099   \n",
      "\n",
      "   responseCode_('200',)  responseCode_('300',)  responseCode_('400',)  \\\n",
      "0              10.191327               8.360050               8.238032   \n",
      "1              -1.294867               3.883725               4.886351   \n",
      "2              -1.028578               3.769773               4.521184   \n",
      "3              -1.184208               4.388538               3.601047   \n",
      "4              -0.619125               5.655934               4.156766   \n",
      "\n",
      "   responseCode_('500',)  clientIp_0  clientIp_1  clientIp_2  Cluster  \n",
      "0              -1.025869    2.415278   -5.543622   -1.016158       -1  \n",
      "1               8.519048   -2.043455   -0.246618    0.062189       -1  \n",
      "2               9.089343   -1.695821    0.646911   -2.107391       -1  \n",
      "3               8.720649   -3.392154    3.121523   -2.420474       -1  \n",
      "4               7.853503   -1.130435   -0.130797   -1.401939       -1  \n"
     ]
    }
   ],
   "source": [
    "import pandas as pd\n",
    "from sklearn.datasets import make_blobs\n",
    "from sklearn.cluster import DBSCAN\n",
    "from sklearn.preprocessing import StandardScaler\n",
    "\n",
    "X, _ = make_blobs(n_samples=908659, centers=2, n_features=16)\n",
    "\n",
    "data_DB = pd.DataFrame(X, columns=['_score', 'Bandwidth_in_Mbps', 'method_DELETE', 'method_GET', 'method_OPTIONS', 'method_POST', 'method_PUT', 'log-type_(\\'request\\',)', 'log-type_(\\'response\\',)', 'responseCode_(\\'200\\',)', 'responseCode_(\\'300\\',)', 'responseCode_(\\'400\\',)', 'responseCode_(\\'500\\',)', 'clientIp_0', 'clientIp_1', 'clientIp_2'])\n",
    "\n",
    "# Scale the features using StandardScaler\n",
    "scaler = StandardScaler()\n",
    "X_scaled = scaler.fit_transform(data_DB)\n",
    "\n",
    "# Perform DBSCAN clustering\n",
    "dbscan_model = DBSCAN(eps=0.5, min_samples=5)\n",
    "y = dbscan_model.fit_predict(X_scaled)\n",
    "\n",
    "data_DB['Cluster'] = y\n",
    "\n",
    "print(data_DB.head())"
   ]
  },
  {
   "cell_type": "code",
   "execution_count": 58,
   "metadata": {},
   "outputs": [
    {
     "name": "stdout",
     "output_type": "stream",
     "text": [
      "-1      908012\n",
      " 57         15\n",
      " 26         15\n",
      " 32         12\n",
      " 33         11\n",
      " 23         11\n",
      " 6          11\n",
      " 63         10\n",
      " 38         10\n",
      " 30          9\n",
      " 72          9\n",
      " 29          8\n",
      " 36          8\n",
      " 14          8\n",
      " 53          8\n",
      " 8           8\n",
      " 15          8\n",
      " 37          8\n",
      " 28          7\n",
      " 18          7\n",
      " 5           7\n",
      " 88          7\n",
      " 2           7\n",
      " 98          7\n",
      " 79          7\n",
      " 105         6\n",
      " 71          6\n",
      " 4           6\n",
      " 64          6\n",
      " 9           6\n",
      " 75          6\n",
      " 80          6\n",
      " 91          6\n",
      " 107         6\n",
      " 1           6\n",
      " 74          6\n",
      " 96          6\n",
      " 100         5\n",
      " 70          5\n",
      " 50          5\n",
      " 56          5\n",
      " 0           5\n",
      " 102         5\n",
      " 31          5\n",
      " 89          5\n",
      " 66          5\n",
      " 95          5\n",
      " 24          5\n",
      " 48          5\n",
      " 94          5\n",
      " 46          5\n",
      " 41          5\n",
      " 27          5\n",
      " 104         5\n",
      " 43          5\n",
      " 58          5\n",
      " 51          5\n",
      " 67          5\n",
      " 61          5\n",
      " 55          5\n",
      " 101         5\n",
      " 42          5\n",
      " 81          5\n",
      " 35          5\n",
      " 85          5\n",
      " 69          5\n",
      " 44          5\n",
      " 87          5\n",
      " 93          5\n",
      " 90          5\n",
      " 83          5\n",
      " 99          5\n",
      " 11          5\n",
      " 106         5\n",
      " 76          5\n",
      " 68          5\n",
      " 16          5\n",
      " 40          5\n",
      " 60          5\n",
      " 7           5\n",
      " 92          5\n",
      " 45          5\n",
      " 62          5\n",
      " 3           5\n",
      " 59          5\n",
      " 65          5\n",
      " 52          5\n",
      " 82          5\n",
      " 97          5\n",
      " 73          5\n",
      " 10          5\n",
      " 86          5\n",
      " 47          5\n",
      " 25          5\n",
      " 19          5\n",
      " 39          5\n",
      " 22          5\n",
      " 103         5\n",
      " 20          5\n",
      " 17          5\n",
      " 21          5\n",
      " 84          5\n",
      " 49          5\n",
      " 13          5\n",
      " 12          5\n",
      " 78          5\n",
      " 77          4\n",
      " 54          4\n",
      " 34          4\n"
     ]
    }
   ],
   "source": [
    "count = data_DB['Cluster'].value_counts()\n",
    "print(count.to_string())"
   ]
  }
 ],
 "metadata": {
  "kernelspec": {
   "display_name": "Python 3 (ipykernel)",
   "language": "python",
   "name": "python3"
  },
  "language_info": {
   "codemirror_mode": {
    "name": "ipython",
    "version": 3
   },
   "file_extension": ".py",
   "mimetype": "text/x-python",
   "name": "python",
   "nbconvert_exporter": "python",
   "pygments_lexer": "ipython3",
   "version": "3.9.12"
  }
 },
 "nbformat": 4,
 "nbformat_minor": 4
}
